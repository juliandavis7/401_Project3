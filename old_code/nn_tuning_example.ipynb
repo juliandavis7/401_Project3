{
 "cells": [
  {
   "cell_type": "code",
   "execution_count": 1,
   "metadata": {
    "id": "5E-glDGL1Mpa"
   },
   "outputs": [],
   "source": [
    "from sklearn.datasets import load_boston\n",
    "from sklearn.neural_network import MLPRegressor\n",
    "from sklearn.metrics import mean_absolute_error\n",
    "import numpy as np"
   ]
  },
  {
   "cell_type": "markdown",
   "metadata": {
    "id": "xSy_5yE-5J4H"
   },
   "source": [
    "The Boston house prices dataset contains 506 instances of houses with 13 predictor variables.  The target variable is the median value of the home in $1000’s.\n"
   ]
  },
  {
   "cell_type": "code",
   "execution_count": 2,
   "metadata": {
    "id": "Hj3RM3k81awb"
   },
   "outputs": [],
   "source": [
    "x,y = load_boston(return_X_y=True)"
   ]
  },
  {
   "cell_type": "markdown",
   "metadata": {
    "id": "gI4aL8cD5i59"
   },
   "source": [
    "Let's set up an almighty neural network to predict the median value of the house based on the predictor variables!"
   ]
  },
  {
   "cell_type": "code",
   "execution_count": 3,
   "metadata": {
    "colab": {
     "base_uri": "https://localhost:8080/"
    },
    "id": "-cjcBltk1ovy",
    "outputId": "525e4bb4-499b-4be7-eb61-545db7bf296d"
   },
   "outputs": [
    {
     "name": "stdout",
     "output_type": "stream",
     "text": [
      "Iteration 1, loss = 128.99927249\n",
      "Iteration 2, loss = 40.17446577\n",
      "Iteration 3, loss = 37.11971649\n",
      "Iteration 4, loss = 35.48656240\n",
      "Iteration 5, loss = 34.99523682\n",
      "Iteration 6, loss = 35.40971254\n",
      "Iteration 7, loss = 34.45985862\n",
      "Iteration 8, loss = 34.68083936\n",
      "Iteration 9, loss = 35.21111430\n",
      "Iteration 10, loss = 34.90210355\n",
      "Iteration 11, loss = 35.44532941\n",
      "Iteration 12, loss = 35.58251045\n",
      "Iteration 13, loss = 34.82263863\n",
      "Iteration 14, loss = 34.89554133\n",
      "Iteration 15, loss = 34.43994331\n",
      "Iteration 16, loss = 33.89366353\n",
      "Iteration 17, loss = 34.06579130\n",
      "Iteration 18, loss = 34.16741970\n",
      "Iteration 19, loss = 33.79107581\n",
      "Iteration 20, loss = 34.39890445\n",
      "Iteration 21, loss = 34.55230288\n",
      "Iteration 22, loss = 34.25194605\n",
      "Iteration 23, loss = 33.39017761\n",
      "Iteration 24, loss = 33.48662141\n",
      "Iteration 25, loss = 34.26129093\n",
      "Iteration 26, loss = 34.23594017\n",
      "Iteration 27, loss = 33.51770580\n",
      "Iteration 28, loss = 33.82454284\n",
      "Iteration 29, loss = 33.79204746\n",
      "Iteration 30, loss = 33.96390115\n",
      "Iteration 31, loss = 33.28631947\n",
      "Iteration 32, loss = 33.62836489\n",
      "Iteration 33, loss = 33.28854638\n",
      "Iteration 34, loss = 33.38054323\n",
      "Iteration 35, loss = 33.45821837\n",
      "Iteration 36, loss = 33.37724410\n",
      "Iteration 37, loss = 34.02632572\n",
      "Iteration 38, loss = 33.93839502\n",
      "Iteration 39, loss = 33.93723179\n",
      "Iteration 40, loss = 33.86553070\n",
      "Iteration 41, loss = 33.56097489\n",
      "Iteration 42, loss = 33.75569057\n",
      "Training loss did not improve more than tol=0.000100 for 10 consecutive epochs. Stopping.\n"
     ]
    }
   ],
   "source": [
    "mlp = MLPRegressor(hidden_layer_sizes=(100),activation='tanh',\n",
    "                   batch_size=32,\n",
    "                   solver='sgd',learning_rate_init=0.001,momentum=0,\n",
    "                   learning_rate='constant',\n",
    "                   max_iter=200,\n",
    "                   tol=0.0001,\n",
    "                   verbose=True).fit(x,y)"
   ]
  },
  {
   "cell_type": "markdown",
   "metadata": {
    "id": "LUnnYqBi7KFR"
   },
   "source": [
    "Now let's check the mean absolute error of our housing price predictions.\n"
   ]
  },
  {
   "cell_type": "code",
   "execution_count": 4,
   "metadata": {
    "colab": {
     "base_uri": "https://localhost:8080/"
    },
    "id": "tRzqfIj625SY",
    "outputId": "14308536-97bf-484f-f8fc-d74cf3d5c358"
   },
   "outputs": [
    {
     "name": "stdout",
     "output_type": "stream",
     "text": [
      "Mean absolute error: $5804.67\n"
     ]
    }
   ],
   "source": [
    "mae = mean_absolute_error(y,mlp.predict(x))\n",
    "print('Mean absolute error: $%0.2f'%(mae*1000))"
   ]
  },
  {
   "cell_type": "markdown",
   "metadata": {
    "id": "BWvJk93N7Wj6"
   },
   "source": [
    "That's a pretty high error!  Can you get the MAE below $1000 using the techniques presented in class?"
   ]
  },
  {
   "cell_type": "markdown",
   "metadata": {},
   "source": [
    "## Using SGD Solver"
   ]
  },
  {
   "cell_type": "code",
   "execution_count": 5,
   "metadata": {},
   "outputs": [
    {
     "name": "stdout",
     "output_type": "stream",
     "text": [
      "Mean absolute error: $543.02\n"
     ]
    },
    {
     "name": "stderr",
     "output_type": "stream",
     "text": [
      "/Applications/anaconda3/lib/python3.8/site-packages/sklearn/neural_network/_multilayer_perceptron.py:582: ConvergenceWarning: Stochastic Optimizer: Maximum iterations (200) reached and the optimization hasn't converged yet.\n",
      "  warnings.warn(\n"
     ]
    }
   ],
   "source": [
    "from sklearn.preprocessing import StandardScaler\n",
    "from sklearn.pipeline import make_pipeline\n",
    "\n",
    "mlp = MLPRegressor(hidden_layer_sizes=(100),activation='tanh',\n",
    "                   batch_size=2,\n",
    "                   solver='sgd',learning_rate_init=0.001, momentum=0.9,\n",
    "                   learning_rate='adaptive',\n",
    "                   max_iter=200,\n",
    "                   tol=0.0001,\n",
    "                   verbose=False)\n",
    "\n",
    "scaler = StandardScaler()\n",
    "x_std = scaler.fit_transform(x)\n",
    "mlp.fit(x_std, y)\n",
    "\n",
    "mae = mean_absolute_error(y, mlp.predict(x_std))\n",
    "print('Mean absolute error: $%0.2f'%(mae*1000))"
   ]
  },
  {
   "cell_type": "markdown",
   "metadata": {},
   "source": [
    "### Modifications"
   ]
  },
  {
   "cell_type": "markdown",
   "metadata": {},
   "source": [
    "- Standardized X\n",
    "- Batch Size 32 -> 2\n",
    "- Momentum 0 -> .9\n",
    "- Learning Rate constant -> adaptive\n"
   ]
  },
  {
   "cell_type": "markdown",
   "metadata": {},
   "source": [
    "## Can Get Even Better with LGFBS Solver"
   ]
  },
  {
   "cell_type": "code",
   "execution_count": 6,
   "metadata": {},
   "outputs": [
    {
     "name": "stdout",
     "output_type": "stream",
     "text": [
      "Mean absolute error: $386.63\n"
     ]
    },
    {
     "name": "stderr",
     "output_type": "stream",
     "text": [
      "/Applications/anaconda3/lib/python3.8/site-packages/sklearn/neural_network/_multilayer_perceptron.py:471: ConvergenceWarning: lbfgs failed to converge (status=1):\n",
      "STOP: TOTAL NO. of ITERATIONS REACHED LIMIT.\n",
      "\n",
      "Increase the number of iterations (max_iter) or scale the data as shown in:\n",
      "    https://scikit-learn.org/stable/modules/preprocessing.html\n",
      "  self.n_iter_ = _check_optimize_result(\"lbfgs\", opt_res, self.max_iter)\n"
     ]
    }
   ],
   "source": [
    "mlp2 = MLPRegressor(hidden_layer_sizes=(100),activation='tanh',\n",
    "                   batch_size=10,\n",
    "                   solver='lbfgs',learning_rate_init=0.001, momentum=0.9,\n",
    "                   learning_rate='adaptive',\n",
    "                   max_iter=200,\n",
    "                   tol=0.0001,\n",
    "                   verbose=False)\n",
    "\n",
    "scaler = StandardScaler()\n",
    "x_std = scaler.fit_transform(x)\n",
    "mlp2.fit(x_std, y)\n",
    "\n",
    "mae = mean_absolute_error(y, mlp2.predict(x_std))\n",
    "print('Mean absolute error: $%0.2f'%(mae*1000))"
   ]
  }
 ],
 "metadata": {
  "colab": {
   "collapsed_sections": [],
   "name": "nn_tuning_example.ipynb",
   "provenance": []
  },
  "kernelspec": {
   "display_name": "Python 3",
   "language": "python",
   "name": "python3"
  },
  "language_info": {
   "codemirror_mode": {
    "name": "ipython",
    "version": 3
   },
   "file_extension": ".py",
   "mimetype": "text/x-python",
   "name": "python",
   "nbconvert_exporter": "python",
   "pygments_lexer": "ipython3",
   "version": "3.8.5"
  }
 },
 "nbformat": 4,
 "nbformat_minor": 1
}
