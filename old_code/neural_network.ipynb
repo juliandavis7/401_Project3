{
 "cells": [
  {
   "cell_type": "markdown",
   "metadata": {},
   "source": [
    "# Data 401 Project 3"
   ]
  },
  {
   "cell_type": "code",
   "execution_count": 1,
   "metadata": {},
   "outputs": [],
   "source": [
    "from funcs import *\n",
    "from sklearn.preprocessing import StandardScaler\n",
    "import random\n",
    "\n",
    "import sys"
   ]
  },
  {
   "cell_type": "markdown",
   "metadata": {},
   "source": [
    "### Reading in the Data"
   ]
  },
  {
   "cell_type": "code",
   "execution_count": 2,
   "metadata": {},
   "outputs": [],
   "source": [
    "russia_df = pd.read_csv(\"russian_housing.csv\")"
   ]
  },
  {
   "cell_type": "code",
   "execution_count": 4,
   "metadata": {},
   "outputs": [],
   "source": [
    "# preparing to perform cross validation \n",
    "ind = list(russia_df.index)\n",
    "random.shuffle(ind)\n",
    "\n",
    "splits = int(len(russia_df)/5)\n",
    "inds = []\n",
    "for i in range(5):\n",
    "    inds.append(ind[i*splits:(i+1)*splits])"
   ]
  },
  {
   "cell_type": "code",
   "execution_count": 5,
   "metadata": {},
   "outputs": [],
   "source": [
    "scaler = StandardScaler()\n",
    "X_std = scaler.fit_transform(russia_df.drop([\"timestamp\", \"price_doc\"], axis=1))\n",
    "y = russia_df[\"price_doc\"]"
   ]
  },
  {
   "cell_type": "code",
   "execution_count": 6,
   "metadata": {
    "scrolled": true
   },
   "outputs": [
    {
     "data": {
      "text/plain": [
       "<AxesSubplot:ylabel='Frequency'>"
      ]
     },
     "execution_count": 6,
     "metadata": {},
     "output_type": "execute_result"
    },
    {
     "data": {
      "image/png": "[encoded data removed]",
      "text/plain": [
       "<Figure size 432x288 with 1 Axes>"
      ]
     },
     "metadata": {
      "needs_background": "light"
     },
     "output_type": "display_data"
    }
   ],
   "source": [
    "y.plot(kind=\"hist\")"
   ]
  },
  {
   "cell_type": "code",
   "execution_count": 7,
   "metadata": {},
   "outputs": [
    {
     "data": {
      "text/plain": [
       "<AxesSubplot:ylabel='Frequency'>"
      ]
     },
     "execution_count": 7,
     "metadata": {},
     "output_type": "execute_result"
    },
    {
     "data": {
      "image/png": "[encoded data removed]",
      "text/plain": [
       "<Figure size 432x288 with 1 Axes>"
      ]
     },
     "metadata": {
      "needs_background": "light"
     },
     "output_type": "display_data"
    }
   ],
   "source": [
    "np.log(y).plot(kind=\"hist\")"
   ]
  },
  {
   "cell_type": "code",
   "execution_count": 8,
   "metadata": {},
   "outputs": [],
   "source": [
    "y_log = np.log(y)"
   ]
  },
  {
   "cell_type": "markdown",
   "metadata": {},
   "source": [
    "We then decided to use the log of y as the results are more normally distributed."
   ]
  },
  {
   "cell_type": "markdown",
   "metadata": {},
   "source": [
    "### Evaluation Metrics"
   ]
  },
  {
   "cell_type": "code",
   "execution_count": 9,
   "metadata": {},
   "outputs": [],
   "source": [
    "def get_mse(y, y_pred):\n",
    "    return np.mean(np.square(y-y_pred))"
   ]
  },
  {
   "cell_type": "code",
   "execution_count": 10,
   "metadata": {},
   "outputs": [],
   "source": [
    "def get_mae(y, y_pred):\n",
    "    return np.mean(np.absolute(y-y_pred))"
   ]
  },
  {
   "cell_type": "markdown",
   "metadata": {},
   "source": [
    "## Linear Regression Evaluation"
   ]
  },
  {
   "cell_type": "code",
   "execution_count": 11,
   "metadata": {},
   "outputs": [],
   "source": [
    "class LR:\n",
    "    \n",
    "    def fit(self, X_train, y_train):\n",
    "        # create vector of ones...\n",
    "        ones = np.ones(shape=len(X_train))[..., None]\n",
    "        #...and add to feature matrix\n",
    "        X = np.concatenate((ones, X_train), 1)\n",
    "        #calculate coefficients using closed-form solution\n",
    "        self.coeffs = np.linalg.inv(X.transpose().dot(X)).dot(X.transpose()).dot(y_train)\n",
    "        \n",
    "    def predict(self, X_test):\n",
    "        ones = np.ones(shape=len(X_test))[..., None]\n",
    "        X_test = np.concatenate((ones, X_test), 1)\n",
    "        y_hat = X_test.dot(self.coeffs)\n",
    "        return y_hat"
   ]
  },
  {
   "cell_type": "markdown",
   "metadata": {},
   "source": [
    "Performing cross validation using the linear regression model"
   ]
  },
  {
   "cell_type": "code",
   "execution_count": 13,
   "metadata": {},
   "outputs": [
    {
     "name": "stdout",
     "output_type": "stream",
     "text": [
      "Iteration: 0\n",
      "Mean absolute error: $0.34\n",
      "Root mean squared error: $0.26\n",
      "Iteration: 1\n",
      "Mean absolute error: $0.34\n",
      "Root mean squared error: $0.59\n",
      "Iteration: 2\n",
      "Mean absolute error: $0.35\n",
      "Root mean squared error: $0.28\n",
      "Iteration: 3\n",
      "Mean absolute error: $0.49\n",
      "Root mean squared error: $0.50\n",
      "Iteration: 4\n",
      "Mean absolute error: $0.34\n",
      "Root mean squared error: $0.66\n"
     ]
    }
   ],
   "source": [
    "scalers = [StandardScaler(), StandardScaler(), StandardScaler(), StandardScaler(), StandardScaler()]\n",
    "\n",
    "lr_mses = []\n",
    "lr_maes = []\n",
    "non_log_lr_maes = []\n",
    "\n",
    "for i in range(len(scalers)):\n",
    "    copies = inds.copy()\n",
    "    test_ind = inds[i]\n",
    "    copies.remove(copies[i])\n",
    "    train_ind = []\n",
    "    for c in copies:\n",
    "        for num in c:\n",
    "            train_ind.append(num)\n",
    "    scaler = scalers[i]\n",
    "    \n",
    "    X_train_std = scaler.fit_transform(russia_df.drop([\"timestamp\", \"price_doc\"], axis=1).iloc[train_ind])\n",
    "    X_test_std = scaler.transform(russia_df.drop([\"timestamp\", \"price_doc\"], axis=1).iloc[test_ind])\n",
    "    y_train = russia_df[\"price_doc\"].iloc[train_ind]\n",
    "    y_test = russia_df[\"price_doc\"].iloc[test_ind]\n",
    "    y_train_log = np.log(y_train)\n",
    "    y_test_log = np.log(y_test)\n",
    "    \n",
    "    print(\"Iteration:\", i)\n",
    "    lr = LR()\n",
    "    lr.fit(X_train_std, y_train_log)\n",
    "    y_pred = lr.predict(X_test_std)\n",
    "    mae = get_mae(y_test_log, y_pred)\n",
    "    lr_maes.append(mae)\n",
    "    non_log_mae = get_mae(y_test, np.exp(lr.predict(X_test_std)))\n",
    "    non_log_lr_maes.append(non_log_mae)\n",
    "    mse = get_mse(y_test_log, y_pred)\n",
    "    lr_mses.append(mse)\n",
    "    \n",
    "    print('Mean absolute error: $%0.2f'%(mae))\n",
    "    print('Root mean squared error: $%0.2f'%(mse))"
   ]
  },
  {
   "cell_type": "code",
   "execution_count": 14,
   "metadata": {},
   "outputs": [
    {
     "data": {
      "text/plain": [
       "3.3096369533338666e+22"
      ]
     },
     "execution_count": 14,
     "metadata": {},
     "output_type": "execute_result"
    }
   ],
   "source": [
    "np.mean(non_log_lr_maes)"
   ]
  },
  {
   "cell_type": "code",
   "execution_count": 15,
   "metadata": {},
   "outputs": [
    {
     "data": {
      "text/plain": [
       "0.3729101722711884"
      ]
     },
     "execution_count": 15,
     "metadata": {},
     "output_type": "execute_result"
    }
   ],
   "source": [
    "np.mean(lr_maes)"
   ]
  },
  {
   "cell_type": "code",
   "execution_count": 16,
   "metadata": {},
   "outputs": [
    {
     "data": {
      "text/plain": [
       "0.4596382013012306"
      ]
     },
     "execution_count": 16,
     "metadata": {},
     "output_type": "execute_result"
    }
   ],
   "source": [
    "np.mean(lr_mses)"
   ]
  },
  {
   "cell_type": "markdown",
   "metadata": {},
   "source": [
    "Now that we have our baseline from the linear regression, it is time to develop a neural network implementations to get better results."
   ]
  },
  {
   "cell_type": "markdown",
   "metadata": {},
   "source": [
    "# Neural Network"
   ]
  },
  {
   "cell_type": "code",
   "execution_count": 17,
   "metadata": {},
   "outputs": [],
   "source": [
    "class NeuralNetwork:\n",
    "    \n",
    "    def __init__(self, layers=None, nodes=None, nnodes=None, \n",
    "                 activations=[], activationFn=\"relu\", batchSize=50, \n",
    "                 lr=.001, lr_type=\"constant\", power_t=.5,\n",
    "                 annealing_rate=.999, max_epoch=200, momentum=.9, \n",
    "                 tol=0.0001, alpha=.0001, shuffle=False, \n",
    "                 early_stopping=False, num_epochs_stop=50, verbose=True):\n",
    "        \n",
    "        if layers != None:\n",
    "            self.layers = layers # total number of hidden layers\n",
    "        else:\n",
    "            self.layers = len(nodes)\n",
    "\n",
    "        # an int array of size [0, ..., Layers + 1]\n",
    "        # Nodes[0] shall represent the input size (typically 50)\n",
    "        # Nodes[Layers + 1] shall represent the output size (typically 1)\n",
    "        # all other Nodes represent the number of nodes (or width) in the hidden layer i\n",
    "        self.nodes = nodes\n",
    "        if nodes != None:\n",
    "            self.nodes.insert(0, batchSize)\n",
    "            self.nodes.append(1)\n",
    "        \n",
    "        # alternative to nodes where each hidden layer of the nueral network is the same size\n",
    "        self.nnodes = nnodes\n",
    "        if nnodes != None:\n",
    "            self.nodes = []\n",
    "            self.nodes.append(batchSize)\n",
    "            for i in range(layers):\n",
    "                self.nodes.append(nnodes)\n",
    "            self.nodes.append(1)\n",
    "        \n",
    "        # activations[i] values are labels indicating the activation function used in layer i\n",
    "        self.activations = activations\n",
    "        self.activationFn = activationFn\n",
    "        if activationFn != \"\":\n",
    "            self.activations = [activationFn] * self.layers\n",
    "        \n",
    "        self.batchSize = batchSize\n",
    "        self.lr = lr\n",
    "        self.lr_type = lr_type\n",
    "        self.power_t = power_t\n",
    "        self.annealing_rate = annealing_rate\n",
    "        self.max_epoch = max_epoch\n",
    "        self.mu = momentum\n",
    "        self.tol = tol\n",
    "        self.alpha = alpha\n",
    "        self.shuffle = shuffle\n",
    "        self.verbose = verbose\n",
    "        \n",
    "        if early_stopping == False:\n",
    "            self.num_epochs_stop = max_epoch\n",
    "        else:\n",
    "            self.num_epochs_stop = num_epochs_stop\n",
    "    \n",
    "        self.layer_values = [None] * (self.layers + 2)\n",
    "        self.iters = 0\n",
    "        self.epochs = 0\n",
    "                \n",
    "    def validateHyperParams(self):\n",
    "        \n",
    "        if self.layers != (len(self.nodes) - 2):\n",
    "            raise ValueError(\"layers must be equal to the number of hidden layers, got %s.\" % self.layers)\n",
    "        if self.nnodes != None and self.nnodes <= 0:\n",
    "            raise ValueError(\"nnodes must be > 0, got %s.\" % self.nnodes)\n",
    "        if self.lr <= 0 or self.lr > 1:\n",
    "            raise ValueError(\"lr must be in (0, 1], got %s.\" % self.lr)\n",
    "            \n",
    "        if self.lr_type not in [\"constant\", \"invscaling\", \"annealing\", \"adaptive\"]:\n",
    "            raise ValueError(\"lr_type is not valid\" % self.lr_type\n",
    "                            + \"\\nAvailable lr types: constant, invscaling, adaptive\")\n",
    "            \n",
    "        if self.max_epoch <= 0:\n",
    "            raise ValueError(\"max_iter must be > 0, got %s.\" % self.max_epoch)\n",
    "               \n",
    "        activation_functions = list(ACTIVATIONS.keys())\n",
    "        if self.activationFn != \"\":\n",
    "            if self.activationFn not in activation_functions:\n",
    "                raise ValueError(\"%s is not an activation function\" % self.activationFn\n",
    "                                + \"\\nAvailable activation functions: relu, leaky_relu, sigmoid, tanh\")\n",
    "    \n",
    "    def initialize_weights(self, M):\n",
    "        weights = []\n",
    "        \n",
    "        for i in range(self.layers + 1):\n",
    "            if i == 0:\n",
    "                input_size = M # special case for w1\n",
    "            else:\n",
    "                input_size = self.nodes[i]\n",
    "            output_size = self.nodes[i + 1]\n",
    "            \n",
    "            # Xavier (Glorot) Initialization\n",
    "            if self.activationFn == \"tanh\":\n",
    "                target_variance = 2 / (input_size + output_size)\n",
    "                w_i = np.random.normal(loc= 0, scale = np.sqrt(target_variance), size=(input_size, output_size))\n",
    "            # He Initialization\n",
    "            elif self.activationFn == \"relu\":\n",
    "                target_variance = 2 / input_size\n",
    "                w_i = np.random.normal(loc= 0, scale = np.sqrt(target_variance), size=(input_size, output_size))\n",
    "            # Random Uniform\n",
    "            else:\n",
    "                w_i = np.random.uniform(-1/np.sqrt(input_size), 1/np.sqrt(input_size))\n",
    "                #w_i = np.random.normal(size=(input_size, output_size))\n",
    "            w_i = np.round(w_i, 2)\n",
    "            w_i[input_size - 1:] = 0 # initialize bias to 0\n",
    "            weights.append(w_i)\n",
    "        return weights\n",
    "    \n",
    "    # returns the weight term for L2 regularization\n",
    "    def get_weight_term(self):\n",
    "        weight_term = 0\n",
    "        for i in range(len(self.weights)):\n",
    "            weight_term = np.sum(self.weights[i] ** 2)\n",
    "        return weight_term\n",
    "        \n",
    "    def forward_pass(self, X_batch, y_batch):\n",
    "        \n",
    "        self.layer_values[0] = X_batch\n",
    "        \n",
    "        # calculate hidden layers\n",
    "        for i in range(self.layers):\n",
    "            X = self.layer_values[i]\n",
    "            weights = self.weights[i]\n",
    "            h_layer = X.dot(weights)\n",
    "            \n",
    "            # apply activation function\n",
    "            activation_fn = ACTIVATIONS[self.activations[i]]\n",
    "            activation_fn(h_layer)\n",
    "            self.layer_values[i + 1] = h_layer\n",
    "            \n",
    "        \n",
    "        # calculate predictions\n",
    "        X = self.layer_values[self.layers] # values in last hidden layer\n",
    "        weights = self.weights[self.layers]\n",
    "        y_pred = X.dot(weights)\n",
    "        y_pred = y_pred.flatten()\n",
    "        \n",
    "        # calculate the l2 loss\n",
    "        l2_loss = 0\n",
    "        # only need predictions once we have fit the data\n",
    "        if isinstance(y_batch, np.ndarray): \n",
    "            l2_loss = squared_loss(y_pred, y_batch) # l2\n",
    "            weight_term = self.get_weight_term()\n",
    "            l2_loss += self.alpha * weight_term # l2 regularization\n",
    "            self.layer_values[self.layers + 1] = l2_loss\n",
    "        \n",
    "        return l2_loss, y_pred\n",
    "    \n",
    "    \n",
    "    def backward_pass(self, y_pred, y_batch):\n",
    "        \n",
    "        # loss layer\n",
    "        J = squared_loss_derivative(y_pred, y_batch, self.batchSize)\n",
    "        J = np.reshape(J, (len(J), 1))\n",
    "        \n",
    "        J_weights = [None] * (self.layers + 1)\n",
    "        \n",
    "        # output layer\n",
    "        # jacobian w.r.t. weights\n",
    "        x_t = self.layer_values[self.layers].T\n",
    "        J_wi = x_t.dot(J)\n",
    "        J_weights[self.layers] = J_wi\n",
    "        \n",
    "        # update jacobian at output layer\n",
    "        w_t = self.weights[self.layers].T\n",
    "        w_t = np.delete(w_t, w_t.shape[1] - 1, 1) # take out the bias\n",
    "        J = np.dot(J, w_t)\n",
    "        zeros = [0] * len(J)\n",
    "        zeros = np.reshape(zeros, (len(J), 1))\n",
    "        J = np.append(J, zeros, axis=1)\n",
    "        \n",
    "        # iterate through hidden layers backwards\n",
    "        for i in range(self.layers, 0 , -1):\n",
    "            # update jacobian at activation layer\n",
    "            d_activation_fn = DERIVATIVES[self.activations[i - 1]]\n",
    "            d_activation_fn(self.layer_values[i], J)\n",
    "            \n",
    "            # hidden layer\n",
    "            # jacobian w.r.t. weights\n",
    "            x_t = self.layer_values[i - 1].T\n",
    "            J_wi = x_t.dot(J)\n",
    "            J_weights[i - 1] = J_wi\n",
    "            \n",
    "            # jacobian w.r.t. inputs\n",
    "            w_t = self.weights[i - 1].T\n",
    "            w_t = np.delete(w_t, w_t.shape[1] - 1, 1)\n",
    "            J = np.dot(J, w_t)\n",
    "            zeros = [0] * len(J)\n",
    "            zeros = np.reshape(zeros, (len(J), 1))\n",
    "            J = np.append(J, zeros, axis=1)\n",
    "            \n",
    "            \n",
    "        # initialize velocity to 0\n",
    "        if self.epochs == 0 and self.iters == 0:\n",
    "            self.velocity = []\n",
    "            for i in range(len(J_weights)):\n",
    "                n_rows = J_weights[i].shape[0]\n",
    "                n_cols = J_weights[i].shape[1]\n",
    "                vel_i = np.zeros((n_rows, n_cols))\n",
    "                self.velocity.append(vel_i)\n",
    "        \n",
    "        for i in range(len(J_weights)):\n",
    "            self.velocity[i] = self.mu * self.velocity[i] - self.lr * J_weights[i]\n",
    "            self.weights[i] += self.velocity[i]\n",
    "      \n",
    "    \n",
    "    def fit(self, X_train, y_train):\n",
    "        \n",
    "        self.validateHyperParams()\n",
    "        # convert to numpy arrays\n",
    "        if isinstance(X_train, pd.DataFrame):\n",
    "            X_train = X_train.to_numpy()\n",
    "            \n",
    "        if isinstance(y_train, pd.Series):\n",
    "            y_train = y_train.to_numpy()\n",
    "            \n",
    "        # add ones for bias\n",
    "        ones = [1] * len(X_train)\n",
    "        ones = np.reshape(ones, (len(X_train), 1))\n",
    "        X_train = np.append(X_train, ones, axis=1)\n",
    "        \n",
    "        # save 10% for validation\n",
    "        val_rows = round(len(X_train) * .1)\n",
    "        X_val = X_train[:val_rows, :]\n",
    "        y_val = y_train[:val_rows]\n",
    "        \n",
    "        X_train = X_train[val_rows:, :]\n",
    "        y_train = y_train[val_rows:]\n",
    "        \n",
    "        # initalize weights on first iteration\n",
    "        M = X_train.shape[1] # M = number of features\n",
    "        self.weights = self.initialize_weights(M)\n",
    "        \n",
    "        best_v_loss = np.inf\n",
    "        n_epoch_no_change = 0 \n",
    "        while (self.epochs < self.max_epoch and n_epoch_no_change <= self.num_epochs_stop):\n",
    "            # ONE EPOCH \n",
    "            last_idx = 0\n",
    "            if self.shuffle == True: # shuffle data after every epoch, if specified \n",
    "                np.random.shuffle(X_train)\n",
    "            while (last_idx < len(X_train)):\n",
    "                first_idx = self.iters * self.batchSize\n",
    "                remaining_rows = len(X_train) - first_idx\n",
    "                last_idx = first_idx + min(self.batchSize, remaining_rows)\n",
    "                X_batch = X_train[first_idx: last_idx, :]\n",
    "                y_batch = y_train[first_idx: last_idx]\n",
    "\n",
    "                loss, y_pred = self.forward_pass(X_batch, y_batch)\n",
    "                self.backward_pass(y_pred, y_batch)\n",
    "                self.iters += 1\n",
    "            \n",
    "            # trainig and validation loss after one epoch\n",
    "            t_loss, y_pred = self.forward_pass(X_train, y_train)\n",
    "            v_loss, y_pred = self.forward_pass(X_val, y_val)\n",
    "            if self.verbose:\n",
    "                print(\"epoch:\", self.epochs)\n",
    "                print(\"training loss:\", t_loss)\n",
    "                print(\"validation loss:\", v_loss)\n",
    "            \n",
    "            self.iters = 0 # start over, next epoch\n",
    "            self.epochs += 1\n",
    "            \n",
    "            # decrease the learning rate by one of three methods, if specified\n",
    "            if self.lr_type == \"invscaling\":\n",
    "                self.lr = self.lr/pow(self.epochs, self.power_t)\n",
    "            elif self.lr_type == \"annealing\":\n",
    "                self.lr = self.lr * self.annealing_rate\n",
    "            elif self.lr_type == \"adaptive\":\n",
    "                if n_epoch_no_change >= 2: \n",
    "                    self.lr = self.lr/5\n",
    "                \n",
    "            # stops when validation loss doesn't improve for num_epochs_stop\n",
    "            if best_v_loss - v_loss < self.tol: \n",
    "                n_epoch_no_change += 1\n",
    "            else:\n",
    "                n_epoch_no_change = 0\n",
    "            # update best_v_loss\n",
    "            if v_loss < best_v_loss:\n",
    "                best_v_loss = v_loss\n",
    "            \n",
    "            \n",
    "        \n",
    "    def predict(self, X_test):\n",
    "        \n",
    "        # convert to numpy array\n",
    "        if isinstance(X_test, pd.DataFrame):\n",
    "            X_test = X_test.to_numpy()\n",
    "        \n",
    "        # add ones for bias\n",
    "        ones = [1] * len(X_test)\n",
    "        ones = np.reshape(ones, (len(X_test), 1))\n",
    "        X_test = np.append(X_test, ones, axis=1)\n",
    "        \n",
    "        loss, y_pred = self.forward_pass(X_test, None)\n",
    "        return y_pred\n",
    "        "
   ]
  },
  {
   "cell_type": "markdown",
   "metadata": {},
   "source": [
    "### Hyperparameter Tuning"
   ]
  },
  {
   "cell_type": "code",
   "execution_count": 18,
   "metadata": {
    "scrolled": true
   },
   "outputs": [
    {
     "name": "stdout",
     "output_type": "stream",
     "text": [
      "Nodes: 50\n",
      "Batch Size: 75\n",
      "Nodes: 50\n",
      "Batch Size: 150\n",
      "Nodes: 50\n",
      "Batch Size: 1000\n",
      "Nodes: 50\n",
      "Batch Size: 3000\n",
      "Nodes: 75\n",
      "Batch Size: 75\n",
      "Nodes: 75\n",
      "Batch Size: 150\n",
      "Nodes: 75\n",
      "Batch Size: 1000\n",
      "Nodes: 75\n",
      "Batch Size: 3000\n",
      "Nodes: 100\n",
      "Batch Size: 75\n",
      "Nodes: 100\n",
      "Batch Size: 150\n",
      "Nodes: 100\n",
      "Batch Size: 1000\n",
      "Nodes: 100\n",
      "Batch Size: 3000\n",
      "[0.334700830921914, 0.3511659086871845, 0.3849761388839855, 13.99775397973148, 0.32377908555174556, 0.3381455890073135, 0.38893143781257267, 14.173928165367805, 0.3187330118035012, 0.33780262716712867, 0.3952287889180863, 14.355393929100698]\n",
      "[0.26467429751417854, 0.2813412135947666, 0.3181679084474759, 202.6442366774898, 0.25653841061838634, 0.2691843667976965, 0.3235778786316311, 203.7303173572469, 0.2493696732280373, 0.2660380635251296, 0.32962905842067425, 210.4055204123752]\n"
     ]
    }
   ],
   "source": [
    "# finding the optimal number of nodes and batches\n",
    "\n",
    "nodes = [50, 75, 100] # use to specify a number of hidden nodes per layer\n",
    "batches = [75, 150, 1000, 3000]\n",
    "\n",
    "means = []\n",
    "mses = []\n",
    "\n",
    "for nod in nodes:\n",
    "    for batch in batches:\n",
    "        print(\"Nodes:\", nod)\n",
    "        print(\"Batch Size:\", batch)\n",
    "        nn = NeuralNetwork(layers=3, nnodes=nod, batchSize=batch, \n",
    "                   activationFn=\"tanh\", lr=0.00001, lr_type=\"constant\", \n",
    "                   max_epoch=2000, momentum=0.9, early_stopping=True, verbose=False)\n",
    "        nn.fit(X_std, y_log)\n",
    "        \n",
    "        mae = get_mae(y_log, nn.predict(X_std))\n",
    "        means.append(mae)\n",
    "        mse = get_mse(y_log, nn.predict(X_std))\n",
    "        mses.append(mse)\n",
    "\n",
    "print(means)\n",
    "print(mses)"
   ]
  },
  {
   "cell_type": "markdown",
   "metadata": {},
   "source": [
    "After running this, we determined that a neural network with 75 nodes in each layer and with a batch size of 75 is optimal. (the output accidentally got cleared and was too long to run again)"
   ]
  },
  {
   "cell_type": "code",
   "execution_count": null,
   "metadata": {
    "scrolled": true
   },
   "outputs": [
    {
     "name": "stdout",
     "output_type": "stream",
     "text": [
      "Number of layers: 1\n",
      "0.33586100446300227\n",
      "0.26972655313800314\n",
      "Number of layers: 2\n",
      "0.33118232169681355\n",
      "0.2657306799331579\n",
      "Number of layers: 3\n",
      "0.31751430615890786\n",
      "0.2498748700475913\n",
      "Number of layers: 4\n"
     ]
    }
   ],
   "source": [
    "# finding the optimal number of layers\n",
    "\n",
    "means = []\n",
    "mses = []\n",
    "\n",
    "for i in range(1, 6):\n",
    "    print(\"Number of layers:\", i)\n",
    "    nn = NeuralNetwork(layers=i, nnodes=75, batchSize=75, \n",
    "               activationFn=\"tanh\", lr=0.00001, lr_type=\"constant\", \n",
    "               max_epoch=2000, momentum=0.9, early_stopping=True, verbose=False)\n",
    "    nn.fit(X_std, y_log)\n",
    "\n",
    "    mae = get_mae(y_log, nn.predict(X_std))\n",
    "    means.append(mae)\n",
    "    print(mae)\n",
    "    mse = get_mse(y_log, nn.predict(X_std))\n",
    "    mses.append(mse)\n",
    "    print(mse)\n",
    "\n",
    "print(means)\n",
    "print(mses)"
   ]
  },
  {
   "cell_type": "markdown",
   "metadata": {},
   "source": [
    "Number of layers: 1\n",
    "- mae:0.32878571475904267\n",
    "- mse:0.2653659683032532\n",
    "\n",
    "Number of layers: 2\n",
    "- mae:0.33078621934338914\n",
    "- mse:0.2630391625102294\n",
    "\n",
    "Number of layers: 3\n",
    "- mae:0.32166828746298876\n",
    "- mse:0.25342771172128625\n",
    "\n",
    "Number of layers: 4\n",
    "- mae:0.3290997733116515\n",
    "- mse:0.259221440482325\n",
    "\n",
    "Number of layers: 5\n",
    "- mae:0.34146170976728923\n",
    "- mse:0.2754152768446973"
   ]
  },
  {
   "cell_type": "markdown",
   "metadata": {},
   "source": [
    "We can see here that a neural network with 3 hidden layers is optimal"
   ]
  },
  {
   "cell_type": "code",
   "execution_count": null,
   "metadata": {
    "scrolled": true
   },
   "outputs": [],
   "source": [
    "# finding the optimal activation function\n",
    "\n",
    "actives = [\"relu\", \"tanh\"]\n",
    "\n",
    "means = []\n",
    "mses = []\n",
    "\n",
    "for active in actives:\n",
    "    print(\"Activation Function:\", active)\n",
    "    nn = NeuralNetwork(layers=3, nnodes=75, batchSize=75, \n",
    "               activationFn=active, lr=0.000001, lr_type=\"constant\", \n",
    "               max_epoch=2000, momentum=0.9, early_stopping=True, verbose=False)\n",
    "    nn.fit(X_std, y_log)\n",
    "\n",
    "    mae = get_mae(y_log, nn.predict(X_std))\n",
    "    means.append(mae)\n",
    "    print(mae)\n",
    "    mse = get_mse(y_log, nn.predict(X_std))\n",
    "    mses.append(mse)\n",
    "    print(mse)\n"
   ]
  },
  {
   "cell_type": "markdown",
   "metadata": {},
   "source": [
    "Activation Function: relu\n",
    "- mae: 1.839555048410389\n",
    "- mse: 5.905572357965957\n",
    "\n",
    "Activation Function: tanh\n",
    "- mae:0.32166828746298876\n",
    "- mse:0.25342771172128625"
   ]
  },
  {
   "cell_type": "markdown",
   "metadata": {},
   "source": [
    "We can see that a nerual network with tanh as the activation function is the most optimal."
   ]
  },
  {
   "cell_type": "code",
   "execution_count": null,
   "metadata": {
    "scrolled": true
   },
   "outputs": [],
   "source": [
    "#finding the optimal learning rate\n",
    "\n",
    "lrs = [0.0001, 0.00001, 0.000001, 0.0000001]\n",
    "\n",
    "means = []\n",
    "mses = []\n",
    "\n",
    "for l in lrs:\n",
    "    print(\"Learning Rate:\", l)\n",
    "    nn = NeuralNetwork(layers=3, nnodes=75, batchSize=75, \n",
    "               activationFn=\"tanh\", lr=l, lr_type=\"constant\", \n",
    "               max_epoch=2000, momentum=0.9, early_stopping=True, verbose=False)\n",
    "    nn.fit(X_std, y_log)\n",
    "\n",
    "    mae = get_mae(y_log, nn.predict(X_std))\n",
    "    means.append(mae)\n",
    "    print(\"MAE:\", mae)\n",
    "    mse = get_mse(y_log, nn.predict(X_std))\n",
    "    mses.append(mse)\n",
    "    print(\"MSE:\", mse)\n",
    "\n",
    "print(means)\n",
    "print(mses)"
   ]
  },
  {
   "cell_type": "markdown",
   "metadata": {},
   "source": [
    "Learning Rate: 0.0001\n",
    "- MAE: 0.28629193636873423\n",
    "- MSE: 0.22753831460589047\n",
    "\n",
    "Learning Rate: 1e-05\n",
    "- MAE: 0.3239843514618037\n",
    "- MSE: 0.2535032496097772\n",
    "\n",
    "Learning Rate: 1e-06\n",
    "- MAE: 0.3771263130700\n",
    "- MSE: 0.30886246555594116\n",
    "\n",
    "Learning Rate: 1e-07\n",
    "- MAE: 15.28382880833576\n",
    "- MSE: 235.08928618209882"
   ]
  },
  {
   "cell_type": "markdown",
   "metadata": {},
   "source": [
    "We can see here that a neural network with a learning rate of 0.0001 is the most optimal"
   ]
  },
  {
   "cell_type": "code",
   "execution_count": null,
   "metadata": {},
   "outputs": [],
   "source": [
    "#finding the optimal learning rate type\n",
    "\n",
    "lrstypes = [\"constant\", \"invscaling\", \"annealing\", \"adaptive\"]\n",
    "\n",
    "means = []\n",
    "\n",
    "for ltype in lrstypes: \n",
    "    print(\"Learning Type:\", ltype)\n",
    "    nn = NeuralNetwork(layers=3, nnodes=75, batchSize=75, \n",
    "               activationFn=\"tanh\", lr=0.0001, lr_type=ltype, \n",
    "               max_epoch=2000, momentum=0.9, early_stopping=True, verbose=False)\n",
    "    nn.fit(X_std, y_log)\n",
    "\n",
    "    mae = get_mae(y, np.exp(nn.predict(X_std)))\n",
    "    means.append(mae)\n",
    "\n",
    "print(means)"
   ]
  },
  {
   "cell_type": "markdown",
   "metadata": {},
   "source": [
    "non_log MAES = [1499680.4174009578, 7106315.024163467, 1596500.6056229444, 7104170.881633773]"
   ]
  },
  {
   "cell_type": "markdown",
   "metadata": {},
   "source": [
    "Here we can see that the best learning rate type is the \"constant\" learning rate."
   ]
  },
  {
   "cell_type": "markdown",
   "metadata": {},
   "source": [
    "___Now, we just need to the the final error with all the optimal tuning found above to determine the final training log MSE and log MAE___"
   ]
  },
  {
   "cell_type": "code",
   "execution_count": null,
   "metadata": {},
   "outputs": [],
   "source": [
    "nn = NeuralNetwork(layers=3, nnodes=75, batchSize=75, \n",
    "                   activationFn=\"tanh\", lr=0.0001, lr_type=\"constant\", \n",
    "                   max_epoch=2000, momentum=0.9, early_stopping=True, verbose=False)\n",
    "nn.fit(X_train_std, y_train_log)\n",
    "mae = get_mae(y_log, nn.predict(X_std))\n",
    "mse = get_mse(y_log, nn.predict(X_std))\n",
    "print(\"log_mae:\", mae)\n",
    "print(\"log_mse:\", mse)"
   ]
  },
  {
   "cell_type": "markdown",
   "metadata": {},
   "source": [
    "# Final Evaluation\n",
    "\n",
    "Implementing cross validation to determine the test log MSE and log MAE"
   ]
  },
  {
   "cell_type": "code",
   "execution_count": null,
   "metadata": {},
   "outputs": [],
   "source": [
    "scalers = [StandardScaler(), StandardScaler(), StandardScaler(), StandardScaler(), StandardScaler()]\n",
    "\n",
    "mses = []\n",
    "maes = []\n",
    "preds = []\n",
    "\n",
    "for i in range(len(scalers)):\n",
    "    copies = inds.copy()\n",
    "    test_ind = inds[i]\n",
    "    copies.remove(copies[i])\n",
    "    train_ind = []\n",
    "    for c in copies:\n",
    "        for num in c:\n",
    "            train_ind.append(num)\n",
    "    scaler = scalers[i]\n",
    "    \n",
    "    print(\"Iteration:\", i)\n",
    "    \n",
    "    X_train_std = scaler.fit_transform(russia_df.drop([\"timestamp\", \"price_doc\"], axis=1).iloc[train_ind])\n",
    "    X_test_std = scaler.transform(russia_df.drop([\"timestamp\", \"price_doc\"], axis=1).iloc[test_ind])\n",
    "    y_train = russia_df[\"price_doc\"].iloc[train_ind]\n",
    "    y_test = russia_df[\"price_doc\"].iloc[test_ind]\n",
    "    y_train_log = np.log(y_train)\n",
    "    y_test_log = np.log(y_test)\n",
    "    \n",
    "    nn = NeuralNetwork(layers=3, nnodes=75, batchSize=75, \n",
    "                       activationFn=\"tanh\", lr=0.0001, lr_type=\"constant\", \n",
    "                       max_epoch=2000, momentum=0.9, early_stopping=True, verbose=False)\n",
    "    nn.fit(X_train_std, y_train_log)\n",
    "    \n",
    "    pred = nn.predict(X_test_std)\n",
    "    preds.append(pred)\n",
    "    mse = get_mse(y_test_log, pred)\n",
    "    mses.append(mse)\n",
    "    mae = get_mae(y_test_log, pred)\n",
    "    maes.append(mae)\n",
    "    print('Mean absolute error: $%0.2f'%(mae))\n",
    "    print('Root mean squared error: $%0.2f'%(mse))"
   ]
  },
  {
   "cell_type": "code",
   "execution_count": null,
   "metadata": {},
   "outputs": [],
   "source": [
    "np.mean(maes)"
   ]
  },
  {
   "cell_type": "code",
   "execution_count": null,
   "metadata": {},
   "outputs": [],
   "source": [
    "np.mean(mses)"
   ]
  },
  {
   "cell_type": "code",
   "execution_count": null,
   "metadata": {},
   "outputs": [],
   "source": [
    "y1 = russia_df[\"price_doc\"].iloc[inds[0]]\n",
    "y2 = russia_df[\"price_doc\"].iloc[inds[1]]\n",
    "y3 = russia_df[\"price_doc\"].iloc[inds[2]]\n",
    "y4 = russia_df[\"price_doc\"].iloc[inds[3]]\n",
    "y5 = russia_df[\"price_doc\"].iloc[inds[4]]"
   ]
  },
  {
   "cell_type": "code",
   "execution_count": null,
   "metadata": {},
   "outputs": [],
   "source": [
    "ys = [y1, y2, y3, y4, y5]"
   ]
  },
  {
   "cell_type": "code",
   "execution_count": null,
   "metadata": {},
   "outputs": [],
   "source": [
    "non_log_maes = []\n",
    "for i in range(len(preds)):\n",
    "    mae = get_mae(y[i], np.exp(preds[i]))\n",
    "    non_log_maes.append(mae)\n",
    "    print(mae)"
   ]
  },
  {
   "cell_type": "code",
   "execution_count": null,
   "metadata": {},
   "outputs": [],
   "source": [
    "np.mean(non_log_maes)"
   ]
  },
  {
   "cell_type": "markdown",
   "metadata": {},
   "source": [
    "- Log Mean Squared Error: 0.02424\n",
    "- Log Mean Absolute Error: 0.3039\n",
    "- Mean absolute error: 4,491,396.67 rubles"
   ]
  },
  {
   "cell_type": "markdown",
   "metadata": {},
   "source": [
    "As our final result when comparing these two models, we can clearly see that the neural network out-performs the linear regression model, as the log MSE is almost half that of the linear regression model."
   ]
  }
 ],
 "metadata": {
  "kernelspec": {
   "display_name": "Python 3",
   "language": "python",
   "name": "python3"
  },
  "language_info": {
   "codemirror_mode": {
    "name": "ipython",
    "version": 3
   },
   "file_extension": ".py",
   "mimetype": "text/x-python",
   "name": "python",
   "nbconvert_exporter": "python",
   "pygments_lexer": "ipython3",
   "version": "3.8.5"
  }
 },
 "nbformat": 4,
 "nbformat_minor": 4
}
