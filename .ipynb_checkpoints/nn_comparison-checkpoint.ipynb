{
 "cells": [
  {
   "cell_type": "code",
   "execution_count": 49,
   "metadata": {
    "id": "5E-glDGL1Mpa"
   },
   "outputs": [],
   "source": [
    "from sklearn.datasets import load_boston\n",
    "from sklearn.neural_network import MLPRegressor\n",
    "from sklearn.preprocessing import StandardScaler\n",
    "from sklearn.metrics import mean_absolute_error\n",
    "import numpy as np"
   ]
  },
  {
   "cell_type": "markdown",
   "metadata": {
    "id": "xSy_5yE-5J4H"
   },
   "source": [
    "### Read and transform the data\n",
    "\n",
    "Dataset: The Boston house prices dataset\n",
    "- Contains 506 instances of houses with 13 predictor variables\n",
    "- Target Variable: median value of the home in $1000’s\n"
   ]
  },
  {
   "cell_type": "code",
   "execution_count": 50,
   "metadata": {
    "id": "Hj3RM3k81awb"
   },
   "outputs": [],
   "source": [
    "x,y = load_boston(return_X_y=True)\n",
    "\n",
    "scaler = StandardScaler()\n",
    "x_std = scaler.fit_transform(x)"
   ]
  },
  {
   "cell_type": "markdown",
   "metadata": {},
   "source": [
    "### Running Linear Regression"
   ]
  },
  {
   "cell_type": "code",
   "execution_count": 51,
   "metadata": {},
   "outputs": [
    {
     "name": "stdout",
     "output_type": "stream",
     "text": [
      "Mean absolute error: $3270.86\n"
     ]
    }
   ],
   "source": [
    "from linear_regression import *\n",
    "\n",
    "lr = LR()\n",
    "lr.fit(x_std, y)\n",
    "lr_mae = mean_absolute_error(y, lr.predict(x_std))\n",
    "print('Mean absolute error: $%0.2f'%(lr_mae*1000))"
   ]
  },
  {
   "cell_type": "markdown",
   "metadata": {},
   "source": [
    "### Running My Neural Network"
   ]
  },
  {
   "cell_type": "code",
   "execution_count": 52,
   "metadata": {},
   "outputs": [
    {
     "name": "stdout",
     "output_type": "stream",
     "text": [
      "Mean absolute error: $1531.64\n"
     ]
    }
   ],
   "source": [
    "from neural_network import *\n",
    "\n",
    "nn = NeuralNetwork(layers=4, nnodes=100, batchSize=50, \n",
    "                       activationFn=\"tanh\", lr=0.001, lr_type=\"annealing\", \n",
    "                       max_epoch=200, tol=.0001, verbose=False)\n",
    "\n",
    "nn.fit(x_std, y)\n",
    "my_mae = mean_absolute_error(y, nn.predict(x_std))\n",
    "print('Mean absolute error: $%0.2f'%(my_mae*1000))"
   ]
  },
  {
   "cell_type": "markdown",
   "metadata": {},
   "source": [
    "### Running SKLearn's Neural Network"
   ]
  },
  {
   "cell_type": "code",
   "execution_count": 53,
   "metadata": {},
   "outputs": [
    {
     "name": "stdout",
     "output_type": "stream",
     "text": [
      "Mean absolute error: $1553.23\n"
     ]
    },
    {
     "name": "stderr",
     "output_type": "stream",
     "text": [
      "/Users/juliandavis/opt/anaconda3/lib/python3.8/site-packages/sklearn/neural_network/_multilayer_perceptron.py:582: ConvergenceWarning: Stochastic Optimizer: Maximum iterations (200) reached and the optimization hasn't converged yet.\n",
      "  warnings.warn(\n"
     ]
    }
   ],
   "source": [
    "\n",
    "mlp = MLPRegressor(hidden_layer_sizes=(100),activation='tanh',\n",
    "                   batch_size=50,\n",
    "                   solver='sgd',learning_rate_init=0.001, momentum=0.9,\n",
    "                   learning_rate='adaptive',\n",
    "                   max_iter=200,\n",
    "                   tol=0.0001,\n",
    "                   verbose=False)\n",
    "\n",
    "scaler = StandardScaler()\n",
    "x_std = scaler.fit_transform(x)\n",
    "mlp.fit(x_std, y)\n",
    "\n",
    "sklearn_mae = mean_absolute_error(y, mlp.predict(x_std))\n",
    "print('Mean absolute error: $%0.2f'%(sklearn_mae*1000))"
   ]
  },
  {
   "cell_type": "markdown",
   "metadata": {},
   "source": [
    "### Results"
   ]
  },
  {
   "cell_type": "code",
   "execution_count": 56,
   "metadata": {},
   "outputs": [
    {
     "name": "stdout",
     "output_type": "stream",
     "text": [
      "Linear Regression MAE: $3270.86\n",
      "My Neural Network's MAE: $1531.64\n",
      "Sklearn's MAE: $1553.23\n"
     ]
    }
   ],
   "source": [
    "print('Linear Regression MAE:    $%0.2f'%(lr_mae*1000))\n",
    "print('My Neural Network\\'s MAE: $%0.2f'%(my_mae*1000))\n",
    "print('Sklearn\\'s MAE:           $%0.2f'%(sklearn_mae*1000))\n",
    "\n"
   ]
  },
  {
   "cell_type": "code",
   "execution_count": null,
   "metadata": {},
   "outputs": [],
   "source": []
  }
 ],
 "metadata": {
  "colab": {
   "collapsed_sections": [],
   "name": "nn_tuning_example.ipynb",
   "provenance": []
  },
  "kernelspec": {
   "display_name": "Python 3",
   "language": "python",
   "name": "python3"
  },
  "language_info": {
   "codemirror_mode": {
    "name": "ipython",
    "version": 3
   },
   "file_extension": ".py",
   "mimetype": "text/x-python",
   "name": "python",
   "nbconvert_exporter": "python",
   "pygments_lexer": "ipython3",
   "version": "3.8.5"
  }
 },
 "nbformat": 4,
 "nbformat_minor": 1
}
