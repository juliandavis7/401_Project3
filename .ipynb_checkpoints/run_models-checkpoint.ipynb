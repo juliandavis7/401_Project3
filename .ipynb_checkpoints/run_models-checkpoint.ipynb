{
 "cells": [
  {
   "cell_type": "code",
   "execution_count": 1,
   "metadata": {},
   "outputs": [],
   "source": [
    "from neural_network import *\n",
    "from linear_regression import *\n",
    "from sklearn.preprocessing import StandardScaler\n",
    "import random\n",
    "import sys\n",
    "import numpy as np\n",
    "import pandas as pd"
   ]
  },
  {
   "cell_type": "markdown",
   "metadata": {},
   "source": [
    "### Reading in the Data"
   ]
  },
  {
   "cell_type": "code",
   "execution_count": 2,
   "metadata": {},
   "outputs": [],
   "source": [
    "russia_df = pd.read_csv(\"russian_housing.csv\")\n",
    "\n",
    "# preparing to perform cross validation \n",
    "ind = list(russia_df.index)\n",
    "random.shuffle(ind)\n",
    "\n",
    "splits = int(len(russia_df)/5)\n",
    "inds = []\n",
    "for i in range(5):\n",
    "    inds.append(ind[i*splits:(i+1)*splits])"
   ]
  },
  {
   "cell_type": "code",
   "execution_count": 3,
   "metadata": {},
   "outputs": [],
   "source": [
    "scaler = StandardScaler()\n",
    "X_std = scaler.fit_transform(russia_df.drop([\"timestamp\", \"price_doc\"], axis=1))\n",
    "y = russia_df[\"price_doc\"]"
   ]
  },
  {
   "cell_type": "code",
   "execution_count": 4,
   "metadata": {},
   "outputs": [
    {
     "data": {
      "text/plain": [
       "<AxesSubplot:ylabel='Frequency'>"
      ]
     },
     "execution_count": 4,
     "metadata": {},
     "output_type": "execute_result"
    },
    {
     "data": {
      "image/png": "[encoded data removed]",
      "text/plain": [
       "<Figure size 432x288 with 1 Axes>"
      ]
     },
     "metadata": {
      "needs_background": "light"
     },
     "output_type": "display_data"
    }
   ],
   "source": [
    "y.plot(kind=\"hist\")"
   ]
  },
  {
   "cell_type": "code",
   "execution_count": 5,
   "metadata": {},
   "outputs": [
    {
     "data": {
      "text/plain": [
       "<AxesSubplot:ylabel='Frequency'>"
      ]
     },
     "execution_count": 5,
     "metadata": {},
     "output_type": "execute_result"
    },
    {
     "data": {
      "image/png": "[encoded data removed]",
      "text/plain": [
       "<Figure size 432x288 with 1 Axes>"
      ]
     },
     "metadata": {
      "needs_background": "light"
     },
     "output_type": "display_data"
    }
   ],
   "source": [
    "y_log = np.log(y)\n",
    "y_log.plot(kind=\"hist\")"
   ]
  },
  {
   "cell_type": "markdown",
   "metadata": {},
   "source": [
    "### Evaluation Metrics"
   ]
  },
  {
   "cell_type": "code",
   "execution_count": 6,
   "metadata": {},
   "outputs": [],
   "source": [
    "def get_mse(y, y_pred):\n",
    "    return np.mean(np.square(y-y_pred))\n",
    "def get_mae(y, y_pred):\n",
    "    return np.mean(np.absolute(y-y_pred))"
   ]
  },
  {
   "cell_type": "markdown",
   "metadata": {},
   "source": [
    "### Performing Cross-Validation using the Linear Regression Model"
   ]
  },
  {
   "cell_type": "code",
   "execution_count": 20,
   "metadata": {},
   "outputs": [
    {
     "name": "stdout",
     "output_type": "stream",
     "text": [
      "Iteration: 0\n",
      "Mean absolute error: $1.99\n",
      "Mean squared error: $10.03\n",
      "Iteration: 1\n",
      "Mean absolute error: $0.33\n",
      "Mean squared error: $0.26\n",
      "Iteration: 2\n",
      "Mean absolute error: $0.33\n",
      "Mean squared error: $0.62\n",
      "Iteration: 3\n",
      "Mean absolute error: $0.33\n",
      "Mean squared error: $0.26\n"
     ]
    }
   ],
   "source": [
    "scalers = [StandardScaler()] * 4\n",
    "\n",
    "lr_mses = []\n",
    "lr_maes = []\n",
    "non_log_lr_maes = []\n",
    "\n",
    "for i in range(len(scalers)):\n",
    "    copies = inds.copy()\n",
    "    test_ind = inds[i]\n",
    "    copies.remove(copies[i])\n",
    "    train_ind = []\n",
    "    for c in copies:\n",
    "        for num in c:\n",
    "            train_ind.append(num)\n",
    "    scaler = scalers[i]\n",
    "    \n",
    "    X_train_std = scaler.fit_transform(russia_df.drop([\"timestamp\", \"price_doc\"], axis=1).iloc[train_ind])\n",
    "    X_test_std = scaler.transform(russia_df.drop([\"timestamp\", \"price_doc\"], axis=1).iloc[test_ind])\n",
    "    y_train = russia_df[\"price_doc\"].iloc[train_ind]\n",
    "    y_test = russia_df[\"price_doc\"].iloc[test_ind]\n",
    "    y_train_log = np.log(y_train)\n",
    "    y_test_log = np.log(y_test)\n",
    "    \n",
    "    print(\"Iteration:\", i)\n",
    "    lr = LR()\n",
    "    lr.fit(X_train_std, y_train_log)\n",
    "    y_pred = lr.predict(X_test_std)\n",
    "    mae = get_mae(y_test_log, y_pred)\n",
    "    lr_maes.append(mae)\n",
    "    non_log_mae = get_mae(y_test, np.exp(lr.predict(X_test_std)))\n",
    "    non_log_lr_maes.append(non_log_mae)\n",
    "    mse = get_mse(y_test_log, y_pred)\n",
    "    lr_mses.append(mse)\n",
    "    \n",
    "    print('Mean absolute error: $%0.2f'%(mae))\n",
    "    print('Mean squared error: $%0.2f'%(mse))"
   ]
  },
  {
   "cell_type": "code",
   "execution_count": 21,
   "metadata": {},
   "outputs": [
    {
     "data": {
      "text/plain": [
       "2.2866097665938073e+33"
      ]
     },
     "execution_count": 21,
     "metadata": {},
     "output_type": "execute_result"
    }
   ],
   "source": [
    "np.mean(non_log_lr_maes)"
   ]
  },
  {
   "cell_type": "code",
   "execution_count": 22,
   "metadata": {},
   "outputs": [
    {
     "data": {
      "text/plain": [
       "0.7454251162477854"
      ]
     },
     "execution_count": 22,
     "metadata": {},
     "output_type": "execute_result"
    }
   ],
   "source": [
    "np.mean(lr_maes)"
   ]
  },
  {
   "cell_type": "code",
   "execution_count": 23,
   "metadata": {},
   "outputs": [
    {
     "data": {
      "text/plain": [
       "2.790287935708969"
      ]
     },
     "execution_count": 23,
     "metadata": {},
     "output_type": "execute_result"
    }
   ],
   "source": [
    "np.mean(lr_mses)"
   ]
  },
  {
   "cell_type": "code",
   "execution_count": 24,
   "metadata": {},
   "outputs": [
    {
     "name": "stdout",
     "output_type": "stream",
     "text": [
      "Iteration: 0\n"
     ]
    },
    {
     "ename": "NameError",
     "evalue": "name 'ACTIVATIONS' is not defined",
     "output_type": "error",
     "traceback": [
      "\u001b[0;31m---------------------------------------------------------------------------\u001b[0m",
      "\u001b[0;31mNameError\u001b[0m                                 Traceback (most recent call last)",
      "\u001b[0;32m<ipython-input-24-8f8a7e80cecb>\u001b[0m in \u001b[0;36m<module>\u001b[0;34m\u001b[0m\n\u001b[1;32m     27\u001b[0m                        \u001b[0mactivationFn\u001b[0m\u001b[0;34m=\u001b[0m\u001b[0;34m\"tanh\"\u001b[0m\u001b[0;34m,\u001b[0m \u001b[0mlr\u001b[0m\u001b[0;34m=\u001b[0m\u001b[0;36m0.0001\u001b[0m\u001b[0;34m,\u001b[0m \u001b[0mlr_type\u001b[0m\u001b[0;34m=\u001b[0m\u001b[0;34m\"constant\"\u001b[0m\u001b[0;34m,\u001b[0m\u001b[0;34m\u001b[0m\u001b[0;34m\u001b[0m\u001b[0m\n\u001b[1;32m     28\u001b[0m                        max_epoch=2000, momentum=0.9, early_stopping=True, verbose=False)\n\u001b[0;32m---> 29\u001b[0;31m     \u001b[0mnn\u001b[0m\u001b[0;34m.\u001b[0m\u001b[0mfit\u001b[0m\u001b[0;34m(\u001b[0m\u001b[0mX_train_std\u001b[0m\u001b[0;34m,\u001b[0m \u001b[0my_train_log\u001b[0m\u001b[0;34m)\u001b[0m\u001b[0;34m\u001b[0m\u001b[0;34m\u001b[0m\u001b[0m\n\u001b[0m\u001b[1;32m     30\u001b[0m \u001b[0;34m\u001b[0m\u001b[0m\n\u001b[1;32m     31\u001b[0m     \u001b[0mpred\u001b[0m \u001b[0;34m=\u001b[0m \u001b[0mnn\u001b[0m\u001b[0;34m.\u001b[0m\u001b[0mpredict\u001b[0m\u001b[0;34m(\u001b[0m\u001b[0mX_test_std\u001b[0m\u001b[0;34m)\u001b[0m\u001b[0;34m\u001b[0m\u001b[0;34m\u001b[0m\u001b[0m\n",
      "\u001b[0;32m~/rovisys/neural_network.py\u001b[0m in \u001b[0;36mfit\u001b[0;34m(self, X_train, y_train)\u001b[0m\n\u001b[1;32m    203\u001b[0m     \u001b[0;32mdef\u001b[0m \u001b[0mfit\u001b[0m\u001b[0;34m(\u001b[0m\u001b[0mself\u001b[0m\u001b[0;34m,\u001b[0m \u001b[0mX_train\u001b[0m\u001b[0;34m,\u001b[0m \u001b[0my_train\u001b[0m\u001b[0;34m)\u001b[0m\u001b[0;34m:\u001b[0m\u001b[0;34m\u001b[0m\u001b[0;34m\u001b[0m\u001b[0m\n\u001b[1;32m    204\u001b[0m \u001b[0;34m\u001b[0m\u001b[0m\n\u001b[0;32m--> 205\u001b[0;31m         \u001b[0mself\u001b[0m\u001b[0;34m.\u001b[0m\u001b[0mvalidateHyperParams\u001b[0m\u001b[0;34m(\u001b[0m\u001b[0;34m)\u001b[0m\u001b[0;34m\u001b[0m\u001b[0;34m\u001b[0m\u001b[0m\n\u001b[0m\u001b[1;32m    206\u001b[0m         \u001b[0;31m# convert to numpy arrays\u001b[0m\u001b[0;34m\u001b[0m\u001b[0;34m\u001b[0m\u001b[0;34m\u001b[0m\u001b[0m\n\u001b[1;32m    207\u001b[0m         \u001b[0;32mif\u001b[0m \u001b[0misinstance\u001b[0m\u001b[0;34m(\u001b[0m\u001b[0mX_train\u001b[0m\u001b[0;34m,\u001b[0m \u001b[0mpd\u001b[0m\u001b[0;34m.\u001b[0m\u001b[0mDataFrame\u001b[0m\u001b[0;34m)\u001b[0m\u001b[0;34m:\u001b[0m\u001b[0;34m\u001b[0m\u001b[0;34m\u001b[0m\u001b[0m\n",
      "\u001b[0;32m~/rovisys/neural_network.py\u001b[0m in \u001b[0;36mvalidateHyperParams\u001b[0;34m(self)\u001b[0m\n\u001b[1;32m     72\u001b[0m             \u001b[0;32mraise\u001b[0m \u001b[0mValueError\u001b[0m\u001b[0;34m(\u001b[0m\u001b[0;34m\"max_iter must be > 0, got %s.\"\u001b[0m \u001b[0;34m%\u001b[0m \u001b[0mself\u001b[0m\u001b[0;34m.\u001b[0m\u001b[0mmax_epoch\u001b[0m\u001b[0;34m)\u001b[0m\u001b[0;34m\u001b[0m\u001b[0;34m\u001b[0m\u001b[0m\n\u001b[1;32m     73\u001b[0m \u001b[0;34m\u001b[0m\u001b[0m\n\u001b[0;32m---> 74\u001b[0;31m         \u001b[0mactivation_functions\u001b[0m \u001b[0;34m=\u001b[0m \u001b[0mlist\u001b[0m\u001b[0;34m(\u001b[0m\u001b[0mACTIVATIONS\u001b[0m\u001b[0;34m.\u001b[0m\u001b[0mkeys\u001b[0m\u001b[0;34m(\u001b[0m\u001b[0;34m)\u001b[0m\u001b[0;34m)\u001b[0m\u001b[0;34m\u001b[0m\u001b[0;34m\u001b[0m\u001b[0m\n\u001b[0m\u001b[1;32m     75\u001b[0m         \u001b[0;32mif\u001b[0m \u001b[0mself\u001b[0m\u001b[0;34m.\u001b[0m\u001b[0mactivationFn\u001b[0m \u001b[0;34m!=\u001b[0m \u001b[0;34m\"\"\u001b[0m\u001b[0;34m:\u001b[0m\u001b[0;34m\u001b[0m\u001b[0;34m\u001b[0m\u001b[0m\n\u001b[1;32m     76\u001b[0m             \u001b[0;32mif\u001b[0m \u001b[0mself\u001b[0m\u001b[0;34m.\u001b[0m\u001b[0mactivationFn\u001b[0m \u001b[0;32mnot\u001b[0m \u001b[0;32min\u001b[0m \u001b[0mactivation_functions\u001b[0m\u001b[0;34m:\u001b[0m\u001b[0;34m\u001b[0m\u001b[0;34m\u001b[0m\u001b[0m\n",
      "\u001b[0;31mNameError\u001b[0m: name 'ACTIVATIONS' is not defined"
     ]
    }
   ],
   "source": [
    "scalers = [StandardScaler()] * 4\n",
    "\n",
    "mses = []\n",
    "maes = []\n",
    "preds = []\n",
    "\n",
    "for i in range(len(scalers)):\n",
    "    copies = inds.copy()\n",
    "    test_ind = inds[i]\n",
    "    copies.remove(copies[i])\n",
    "    train_ind = []\n",
    "    for c in copies:\n",
    "        for num in c:\n",
    "            train_ind.append(num)\n",
    "    scaler = scalers[i]\n",
    "    \n",
    "    print(\"Iteration:\", i)\n",
    "    \n",
    "    X_train_std = scaler.fit_transform(russia_df.drop([\"timestamp\", \"price_doc\"], axis=1).iloc[train_ind])\n",
    "    X_test_std = scaler.transform(russia_df.drop([\"timestamp\", \"price_doc\"], axis=1).iloc[test_ind])\n",
    "    y_train = russia_df[\"price_doc\"].iloc[train_ind]\n",
    "    y_test = russia_df[\"price_doc\"].iloc[test_ind]\n",
    "    y_train_log = np.log(y_train)\n",
    "    y_test_log = np.log(y_test)\n",
    "    \n",
    "    nn = NeuralNetwork(layers=3, nnodes=75, batchSize=75, \n",
    "                       activationFn=\"tanh\", lr=0.0001, lr_type=\"constant\", \n",
    "                       max_epoch=2000, momentum=0.9, early_stopping=True, verbose=False)\n",
    "    nn.fit(X_train_std, y_train_log)\n",
    "    \n",
    "    pred = nn.predict(X_test_std)\n",
    "    preds.append(pred)\n",
    "    mse = get_mse(y_test_log, pred)\n",
    "    mses.append(mse)\n",
    "    mae = get_mae(y_test_log, pred)\n",
    "    maes.append(mae)\n",
    "    print('Mean absolute error: $%0.2f'%(mae))\n",
    "    print('Root mean squared error: $%0.2f'%(mse))"
   ]
  },
  {
   "cell_type": "code",
   "execution_count": null,
   "metadata": {},
   "outputs": [],
   "source": []
  }
 ],
 "metadata": {
  "kernelspec": {
   "display_name": "Python 3",
   "language": "python",
   "name": "python3"
  },
  "language_info": {
   "codemirror_mode": {
    "name": "ipython",
    "version": 3
   },
   "file_extension": ".py",
   "mimetype": "text/x-python",
   "name": "python",
   "nbconvert_exporter": "python",
   "pygments_lexer": "ipython3",
   "version": "3.8.5"
  }
 },
 "nbformat": 4,
 "nbformat_minor": 4
}
