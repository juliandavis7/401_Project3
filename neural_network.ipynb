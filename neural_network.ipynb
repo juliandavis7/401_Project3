{
 "cells": [
  {
   "cell_type": "code",
   "execution_count": 239,
   "metadata": {},
   "outputs": [],
   "source": [
    "from funcs import *"
   ]
  },
  {
   "cell_type": "code",
   "execution_count": 240,
   "metadata": {},
   "outputs": [
    {
     "data": {
      "text/html": [
       "<div>\n",
       "<style scoped>\n",
       "    .dataframe tbody tr th:only-of-type {\n",
       "        vertical-align: middle;\n",
       "    }\n",
       "\n",
       "    .dataframe tbody tr th {\n",
       "        vertical-align: top;\n",
       "    }\n",
       "\n",
       "    .dataframe thead th {\n",
       "        text-align: right;\n",
       "    }\n",
       "</style>\n",
       "<table border=\"1\" class=\"dataframe\">\n",
       "  <thead>\n",
       "    <tr style=\"text-align: right;\">\n",
       "      <th></th>\n",
       "      <th>CRIM</th>\n",
       "      <th>ZN</th>\n",
       "      <th>INDUS</th>\n",
       "      <th>CHAS</th>\n",
       "      <th>NOX</th>\n",
       "      <th>RM</th>\n",
       "      <th>AGE</th>\n",
       "      <th>DIS</th>\n",
       "      <th>RAD</th>\n",
       "      <th>TAX</th>\n",
       "      <th>PTRATIO</th>\n",
       "      <th>B</th>\n",
       "      <th>LSTAT</th>\n",
       "      <th>MEDV</th>\n",
       "    </tr>\n",
       "  </thead>\n",
       "  <tbody>\n",
       "    <tr>\n",
       "      <th>0</th>\n",
       "      <td>0.00632</td>\n",
       "      <td>18.0</td>\n",
       "      <td>2.31</td>\n",
       "      <td>0</td>\n",
       "      <td>0.538</td>\n",
       "      <td>6.575</td>\n",
       "      <td>65.2</td>\n",
       "      <td>4.0900</td>\n",
       "      <td>1</td>\n",
       "      <td>296.0</td>\n",
       "      <td>15.3</td>\n",
       "      <td>396.90</td>\n",
       "      <td>4.98</td>\n",
       "      <td>24.0</td>\n",
       "    </tr>\n",
       "    <tr>\n",
       "      <th>1</th>\n",
       "      <td>0.02731</td>\n",
       "      <td>0.0</td>\n",
       "      <td>7.07</td>\n",
       "      <td>0</td>\n",
       "      <td>0.469</td>\n",
       "      <td>6.421</td>\n",
       "      <td>78.9</td>\n",
       "      <td>4.9671</td>\n",
       "      <td>2</td>\n",
       "      <td>242.0</td>\n",
       "      <td>17.8</td>\n",
       "      <td>396.90</td>\n",
       "      <td>9.14</td>\n",
       "      <td>21.6</td>\n",
       "    </tr>\n",
       "    <tr>\n",
       "      <th>2</th>\n",
       "      <td>0.02729</td>\n",
       "      <td>0.0</td>\n",
       "      <td>7.07</td>\n",
       "      <td>0</td>\n",
       "      <td>0.469</td>\n",
       "      <td>7.185</td>\n",
       "      <td>61.1</td>\n",
       "      <td>4.9671</td>\n",
       "      <td>2</td>\n",
       "      <td>242.0</td>\n",
       "      <td>17.8</td>\n",
       "      <td>392.83</td>\n",
       "      <td>4.03</td>\n",
       "      <td>34.7</td>\n",
       "    </tr>\n",
       "    <tr>\n",
       "      <th>3</th>\n",
       "      <td>0.03237</td>\n",
       "      <td>0.0</td>\n",
       "      <td>2.18</td>\n",
       "      <td>0</td>\n",
       "      <td>0.458</td>\n",
       "      <td>6.998</td>\n",
       "      <td>45.8</td>\n",
       "      <td>6.0622</td>\n",
       "      <td>3</td>\n",
       "      <td>222.0</td>\n",
       "      <td>18.7</td>\n",
       "      <td>394.63</td>\n",
       "      <td>2.94</td>\n",
       "      <td>33.4</td>\n",
       "    </tr>\n",
       "    <tr>\n",
       "      <th>4</th>\n",
       "      <td>0.06905</td>\n",
       "      <td>0.0</td>\n",
       "      <td>2.18</td>\n",
       "      <td>0</td>\n",
       "      <td>0.458</td>\n",
       "      <td>7.147</td>\n",
       "      <td>54.2</td>\n",
       "      <td>6.0622</td>\n",
       "      <td>3</td>\n",
       "      <td>222.0</td>\n",
       "      <td>18.7</td>\n",
       "      <td>396.90</td>\n",
       "      <td>5.33</td>\n",
       "      <td>36.2</td>\n",
       "    </tr>\n",
       "  </tbody>\n",
       "</table>\n",
       "</div>"
      ],
      "text/plain": [
       "      CRIM    ZN  INDUS  CHAS    NOX     RM   AGE     DIS  RAD    TAX  \\\n",
       "0  0.00632  18.0   2.31     0  0.538  6.575  65.2  4.0900    1  296.0   \n",
       "1  0.02731   0.0   7.07     0  0.469  6.421  78.9  4.9671    2  242.0   \n",
       "2  0.02729   0.0   7.07     0  0.469  7.185  61.1  4.9671    2  242.0   \n",
       "3  0.03237   0.0   2.18     0  0.458  6.998  45.8  6.0622    3  222.0   \n",
       "4  0.06905   0.0   2.18     0  0.458  7.147  54.2  6.0622    3  222.0   \n",
       "\n",
       "   PTRATIO       B  LSTAT  MEDV  \n",
       "0     15.3  396.90   4.98  24.0  \n",
       "1     17.8  396.90   9.14  21.6  \n",
       "2     17.8  392.83   4.03  34.7  \n",
       "3     18.7  394.63   2.94  33.4  \n",
       "4     18.7  396.90   5.33  36.2  "
      ]
     },
     "execution_count": 240,
     "metadata": {},
     "output_type": "execute_result"
    }
   ],
   "source": [
    "df = pd.read_csv(\"housing/boston_fixed.csv\")\n",
    "df.head()"
   ]
  },
  {
   "cell_type": "code",
   "execution_count": 241,
   "metadata": {},
   "outputs": [],
   "source": [
    "X = df.drop(\"MEDV\",axis=1)\n",
    "y = df[\"MEDV\"]"
   ]
  },
  {
   "cell_type": "code",
   "execution_count": 247,
   "metadata": {},
   "outputs": [],
   "source": [
    "# NN\n",
    "\n",
    "class NeuralNetwork:\n",
    "    def __init__(self, layers, nodes, activations, batchSize=50, activationFn=\"relu\", lr=.1):\n",
    "        \n",
    "        self.layers = layers # total number of hidden layers\n",
    "        \n",
    "        self.nodes = nodes\n",
    "        # an int array of size [0, ..., Layers + 1]\n",
    "        # Nodes[0] shall represent the input size (typically 50)\n",
    "        # Nodes[Layers + 1] shall represent the output size (typically 1)\n",
    "        # all other Nodes represent the number of nodes (or width) in the hidden layer i\n",
    "        \n",
    "        self.nnodes = [nodes[0], nodes[1], nodes[2]]\n",
    "        # alternative to nodes where each hidden layer of the nueral network is the same size\n",
    "        \n",
    "        self.activations = activations\n",
    "        # activations[0] and activations[Layers + 1] are left unused\n",
    "        # activations[i] values are labels indicating the activation function used in layer i\n",
    "        \n",
    "        self.batchSize = batchSize\n",
    "        \n",
    "        self.activationFn = activationFn\n",
    "        \n",
    "        self.lr = lr\n",
    "      \n",
    "    # loss over batch\n",
    "    # x = B * 1 = vector of predictions\n",
    "    # y = B * 1 = vector of labals\n",
    "    # output L(x) has size 1\n",
    "    def jacobian_loss_layer(self, x, y):\n",
    "        J = {}\n",
    "        B = len(x)\n",
    "        for i in range(B):\n",
    "            J[i] = d_L(x, y, B)\n",
    "        return pd.series(J)\n",
    "    \n",
    "    # x has size B * M\n",
    "    # output σ(x) has size B * M\n",
    "    \n",
    "    def jacobian_activation_layer(self, x, J, func):\n",
    "        new_x = x.applymap(func).copy()\n",
    "        J = J * new_x\n",
    "        return J\n",
    "    \n",
    "    def jacobian_dense_layer_input(self, x):\n",
    "        pass\n",
    "    \n",
    "    def jacobian_dense_layer_weights(self, x):\n",
    "        pass\n",
    "    \n",
    "    def forward_pass(self, X_train, y_train):\n",
    "        \n",
    "        \"\"\" activations : list, length = n_layers - 1\n",
    "             The ith element of the list holds the values of the ith layer.\n",
    "        \"\"\"\n",
    "        self.activations = []\n",
    "        self.weights = []\n",
    "        \n",
    "        # activations = [None] * \n",
    "        df_train = X_train.copy()\n",
    "        response = y_train.name\n",
    "        df_train[response] = y_train\n",
    "        \n",
    "        df_train_batch = df_train.sample(self.batchSize) # get batch\n",
    "        X_batch = df_train_batch.drop(response, axis=1)\n",
    "        X_batch[\"ones\"] = 1 # add ones for bias\n",
    "        y_batch = df_train_batch[response]\n",
    "        \n",
    "        X_batch = X_batch.to_numpy()\n",
    "        self.y_batch = y_batch.to_numpy()\n",
    "        \n",
    "        self.activations.append(X_batch)\n",
    "        \n",
    "        M = X_batch.shape[1] # M = number of features\n",
    "        N = nodes[1] # N = number of nodes in hidden layer\n",
    "        \n",
    "        # weights = M * N\n",
    "        w1 = np.random.normal(size=(M, N)) # initalize weights\n",
    "        w1 = np.round(w1, 2)\n",
    "        w1[M-1:] = 0 # initialize biases to 0\n",
    "        self.weights.append(w1)\n",
    "        \n",
    "        h1 = X_batch.dot(w1) # first hidden layer\n",
    "        h1_activation_function = ACTIVATIONS[self.activationFn]\n",
    "        h1_activation_function(h1) # h1 is now \"activated\"\n",
    "        \n",
    "        self.activations.append(h1)\n",
    "        \n",
    "        w2 = np.random.normal(size=N) # initialize weights\n",
    "        w2 = np.round(w2, 2)\n",
    "        w2[N - 1] = 0 # initialize bias to 0\n",
    "        \n",
    "        self.z = h1.dot(w2) # z = predictions\n",
    "        \n",
    "        w2 = np.reshape(w2, (N, 1))\n",
    "        self.weights.append(w2)\n",
    "        \n",
    "        loss = squared_loss(self.z, y_batch)\n",
    "        \n",
    "        self.activations.append(loss)\n",
    "        \n",
    "        return self.activations\n",
    "    \n",
    "    def backprop(self):\n",
    "        # loss layer\n",
    "        J = squared_loss_derivative(self.z, self.y_batch, self.batchSize)\n",
    "        J = np.reshape(J, (len(J), 1))\n",
    "\n",
    "        # output layer\n",
    "        # jacobian w.r.t. weights\n",
    "        x_t = self.activations[1].T\n",
    "        J_w2 = x_t.dot(J)\n",
    "        \n",
    "        # update jacobian at output layer\n",
    "        w2_t = self.weights[1].T\n",
    "        J = np.dot(J, w2_t)\n",
    "        \n",
    "        # update jacobian at activation layer\n",
    "        inplace_relu_derivative(activations[1], J)\n",
    "        \n",
    "        # hidden layer\n",
    "        # jacobian w.r.t. weights\n",
    "        x_t = activations[0].T\n",
    "        J_w1 = x_t.dot(J)\n",
    "        \n",
    "        # update weights\n",
    "        self.weights[1] = self.weights[1] - self.lr * J_w2\n",
    "        self.weights[0] = self.weights[0] - self.lr * J_w1\n",
    "        \n",
    "        \n",
    "        \n",
    "    def predict(self):\n",
    "        self.backprop()\n",
    "        "
   ]
  },
  {
   "cell_type": "code",
   "execution_count": 248,
   "metadata": {},
   "outputs": [
    {
     "name": "stdout",
     "output_type": "stream",
     "text": [
      "layers: 1\n",
      "nodes: [50, 4, 1]\n",
      "activations: [None, 'relu', None]\n",
      "activationFn: relu\n"
     ]
    },
    {
     "data": {
      "text/plain": [
       "470094.2142072998"
      ]
     },
     "execution_count": 248,
     "metadata": {},
     "output_type": "execute_result"
    }
   ],
   "source": [
    "layers = 1\n",
    "nodes = [50, 4, 1]\n",
    "activations = [None, \"relu\", None]\n",
    "\n",
    "NN = NeuralNetwork(layers, nodes, activations)\n",
    "print(\"layers:\", NN.layers)\n",
    "print(\"nodes:\", NN.nodes)\n",
    "print(\"activations:\", NN.activations)\n",
    "print(\"activationFn:\", NN.activationFn)\n",
    "\n",
    "activations = NN.forward_pass(X, y)\n",
    "#print(\"dimensitons:\", z.shape)\n",
    "activations[2]"
   ]
  },
  {
   "cell_type": "code",
   "execution_count": 249,
   "metadata": {},
   "outputs": [
    {
     "data": {
      "text/plain": [
       "10"
      ]
     },
     "execution_count": 249,
     "metadata": {},
     "output_type": "execute_result"
    }
   ],
   "source": [
    "NN.backprop()"
   ]
  },
  {
   "cell_type": "code",
   "execution_count": 229,
   "metadata": {},
   "outputs": [
    {
     "data": {
      "text/plain": [
       "(4,)"
      ]
     },
     "execution_count": 229,
     "metadata": {},
     "output_type": "execute_result"
    }
   ],
   "source": [
    "w2 = NN.weights[1]\n",
    "w2.shape"
   ]
  },
  {
   "cell_type": "code",
   "execution_count": 231,
   "metadata": {},
   "outputs": [
    {
     "data": {
      "text/plain": [
       "(4, 1)"
      ]
     },
     "execution_count": 231,
     "metadata": {},
     "output_type": "execute_result"
    }
   ],
   "source": [
    "w2 = np.reshape(w2, (4, 1))\n",
    "w2.shape"
   ]
  },
  {
   "cell_type": "code",
   "execution_count": null,
   "metadata": {},
   "outputs": [],
   "source": []
  }
 ],
 "metadata": {
  "kernelspec": {
   "display_name": "Python 3",
   "language": "python",
   "name": "python3"
  },
  "language_info": {
   "codemirror_mode": {
    "name": "ipython",
    "version": 3
   },
   "file_extension": ".py",
   "mimetype": "text/x-python",
   "name": "python",
   "nbconvert_exporter": "python",
   "pygments_lexer": "ipython3",
   "version": "3.7.3"
  }
 },
 "nbformat": 4,
 "nbformat_minor": 4
}
