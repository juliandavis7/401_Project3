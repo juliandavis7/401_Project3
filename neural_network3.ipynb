{
 "cells": [
  {
   "cell_type": "markdown",
   "metadata": {},
   "source": [
    "# Data 401 Project 3"
   ]
  },
  {
   "cell_type": "code",
   "execution_count": 1,
   "metadata": {},
   "outputs": [],
   "source": [
    "from funcs import *\n",
    "from sklearn.datasets import load_boston\n",
    "from sklearn.metrics import mean_absolute_error\n",
    "from sklearn.preprocessing import StandardScaler\n",
    "import random\n",
    "\n",
    "import sys"
   ]
  },
  {
   "cell_type": "markdown",
   "metadata": {},
   "source": [
    "### Reading in the Data"
   ]
  },
  {
   "cell_type": "code",
   "execution_count": 2,
   "metadata": {},
   "outputs": [],
   "source": [
    "russia_df = pd.read_csv(\"russian_housing.csv\")"
   ]
  },
  {
   "cell_type": "code",
   "execution_count": 3,
   "metadata": {},
   "outputs": [
    {
     "data": {
      "text/plain": [
       "3047.1000000000004"
      ]
     },
     "execution_count": 3,
     "metadata": {},
     "output_type": "execute_result"
    }
   ],
   "source": [
    "len(russia_df)*.1"
   ]
  },
  {
   "cell_type": "code",
   "execution_count": 4,
   "metadata": {},
   "outputs": [],
   "source": [
    "ind = list(russia_df.index)\n",
    "random.shuffle(ind)\n",
    "\n",
    "# we will use a test set of 10% of the data\n",
    "test_ind = ind[:3050]\n",
    "train_ind = ind[3050:]"
   ]
  },
  {
   "cell_type": "code",
   "execution_count": 5,
   "metadata": {},
   "outputs": [],
   "source": [
    "scaler = StandardScaler()\n",
    "X_train_std = scaler.fit_transform(russia_df.drop([\"timestamp\", \"price_doc\"], axis=1).iloc[train_ind])\n",
    "X_test_std = scaler.transform(russia_df.drop([\"timestamp\", \"price_doc\"], axis=1).iloc[test_ind])\n",
    "y_train = russia_df[\"price_doc\"].iloc[train_ind]\n",
    "y_test = russia_df[\"price_doc\"].iloc[test_ind]"
   ]
  },
  {
   "cell_type": "code",
   "execution_count": 6,
   "metadata": {},
   "outputs": [],
   "source": [
    "scaler2 = StandardScaler()\n",
    "X_std = scaler2.fit_transform(russia_df.drop([\"timestamp\", \"price_doc\"], axis=1))\n",
    "y = russia_df[\"price_doc\"]"
   ]
  },
  {
   "cell_type": "code",
   "execution_count": 7,
   "metadata": {
    "scrolled": true
   },
   "outputs": [
    {
     "data": {
      "text/plain": [
       "<AxesSubplot:ylabel='Frequency'>"
      ]
     },
     "execution_count": 7,
     "metadata": {},
     "output_type": "execute_result"
    },
    {
     "data": {
      "image/png": "[encoded data removed]",
      "text/plain": [
       "<Figure size 432x288 with 1 Axes>"
      ]
     },
     "metadata": {
      "needs_background": "light"
     },
     "output_type": "display_data"
    }
   ],
   "source": [
    "y.plot(kind=\"hist\")"
   ]
  },
  {
   "cell_type": "code",
   "execution_count": 8,
   "metadata": {},
   "outputs": [
    {
     "data": {
      "text/plain": [
       "<AxesSubplot:ylabel='Frequency'>"
      ]
     },
     "execution_count": 8,
     "metadata": {},
     "output_type": "execute_result"
    },
    {
     "data": {
      "image/png": "[encoded data removed]",
      "text/plain": [
       "<Figure size 432x288 with 1 Axes>"
      ]
     },
     "metadata": {
      "needs_background": "light"
     },
     "output_type": "display_data"
    }
   ],
   "source": [
    "np.log(y).plot(kind=\"hist\")"
   ]
  },
  {
   "cell_type": "code",
   "execution_count": 9,
   "metadata": {},
   "outputs": [],
   "source": [
    "y_log = np.log(y)\n",
    "y_train_log = np.log(y_train)\n",
    "y_test_log = np.log(y_test)"
   ]
  },
  {
   "cell_type": "markdown",
   "metadata": {},
   "source": [
    "We then decided to use the log of y as the results are more normally distributed."
   ]
  },
  {
   "cell_type": "markdown",
   "metadata": {},
   "source": [
    "### Evaluation Metrics"
   ]
  },
  {
   "cell_type": "code",
   "execution_count": 10,
   "metadata": {},
   "outputs": [],
   "source": [
    "def get_mse(y, y_pred):\n",
    "    return np.mean(np.square(y-y_pred))"
   ]
  },
  {
   "cell_type": "code",
   "execution_count": 11,
   "metadata": {},
   "outputs": [],
   "source": [
    "def get_mae(y, y_pred):\n",
    "    return np.mean(np.absolute(y-y_pred))"
   ]
  },
  {
   "cell_type": "markdown",
   "metadata": {},
   "source": [
    "## Compare to Linear Regression"
   ]
  },
  {
   "cell_type": "code",
   "execution_count": 12,
   "metadata": {},
   "outputs": [],
   "source": [
    "class LR:\n",
    "    \n",
    "    def fit(self, X_train, y_train):\n",
    "        # create vector of ones...\n",
    "        ones = np.ones(shape=len(X_train))[..., None]\n",
    "        #...and add to feature matrix\n",
    "        X = np.concatenate((ones, X_train), 1)\n",
    "        #calculate coefficients using closed-form solution\n",
    "        self.coeffs = np.linalg.inv(X.transpose().dot(X)).dot(X.transpose()).dot(y_train)\n",
    "        \n",
    "    def predict(self, X_test):\n",
    "        ones = np.ones(shape=len(X_test))[..., None]\n",
    "        X_test = np.concatenate((ones, X_test), 1)\n",
    "        y_hat = X_test.dot(self.coeffs)\n",
    "        return y_hat"
   ]
  },
  {
   "cell_type": "markdown",
   "metadata": {},
   "source": [
    "### Linear Regression MAE"
   ]
  },
  {
   "cell_type": "code",
   "execution_count": 13,
   "metadata": {},
   "outputs": [
    {
     "name": "stdout",
     "output_type": "stream",
     "text": [
      "Mean absolute error: $8968729.22\n"
     ]
    }
   ],
   "source": [
    "lr = LR()\n",
    "lr.fit(X_train_std, y_train_log)\n",
    "mae = get_mae(y_test, np.exp(lr.predict(X_test_std)))\n",
    "print('Mean absolute error: $%0.2f'%(mae))"
   ]
  },
  {
   "cell_type": "markdown",
   "metadata": {},
   "source": [
    "### Linear Regression MSE"
   ]
  },
  {
   "cell_type": "code",
   "execution_count": 14,
   "metadata": {},
   "outputs": [
    {
     "name": "stdout",
     "output_type": "stream",
     "text": [
      "MSE: 1.4042960337829707e+17\n"
     ]
    }
   ],
   "source": [
    "mse = get_mse(y_test, np.exp(lr.predict(X_test_std)))\n",
    "print('MSE:', mse)"
   ]
  },
  {
   "cell_type": "markdown",
   "metadata": {},
   "source": [
    "Now that we have our baseline from the linear regression, it is time to develop a neural network implementations to get better results."
   ]
  },
  {
   "cell_type": "markdown",
   "metadata": {},
   "source": [
    "# Neural Network"
   ]
  },
  {
   "cell_type": "code",
   "execution_count": 15,
   "metadata": {},
   "outputs": [],
   "source": [
    "class NeuralNetwork:\n",
    "    \n",
    "    def __init__(self, layers=None, nodes=None, nnodes=None, \n",
    "                 activations=[], activationFn=\"relu\", batchSize=50, \n",
    "                 lr=.001, lr_type=\"constant\", power_t=.5,\n",
    "                 annealing_rate=.999, max_epoch=200, momentum=.9, \n",
    "                 tol=0.0001, alpha=.0001, shuffle=False, \n",
    "                 early_stopping=False, num_epochs_stop=50, verbose=True):\n",
    "        \n",
    "        if layers != None:\n",
    "            self.layers = layers # total number of hidden layers\n",
    "        else:\n",
    "            self.layers = len(nodes)\n",
    "\n",
    "        # an int array of size [0, ..., Layers + 1]\n",
    "        # Nodes[0] shall represent the input size (typically 50)\n",
    "        # Nodes[Layers + 1] shall represent the output size (typically 1)\n",
    "        # all other Nodes represent the number of nodes (or width) in the hidden layer i\n",
    "        self.nodes = nodes\n",
    "        if nodes != None:\n",
    "            self.nodes.insert(0, batchSize)\n",
    "            self.nodes.append(1)\n",
    "        \n",
    "        # alternative to nodes where each hidden layer of the nueral network is the same size\n",
    "        self.nnodes = nnodes\n",
    "        if nnodes != None:\n",
    "            self.nodes = []\n",
    "            self.nodes.append(batchSize)\n",
    "            for i in range(layers):\n",
    "                self.nodes.append(nnodes)\n",
    "            self.nodes.append(1)\n",
    "        \n",
    "        # activations[i] values are labels indicating the activation function used in layer i\n",
    "        self.activations = activations\n",
    "        self.activationFn = activationFn\n",
    "        if activationFn != \"\":\n",
    "            self.activations = [activationFn] * self.layers\n",
    "        \n",
    "        self.batchSize = batchSize\n",
    "        self.lr = lr\n",
    "        self.lr_type = lr_type\n",
    "        self.power_t = power_t\n",
    "        self.annealing_rate = annealing_rate\n",
    "        self.max_epoch = max_epoch\n",
    "        self.mu = momentum\n",
    "        self.tol = tol\n",
    "        self.alpha = alpha\n",
    "        self.shuffle = shuffle\n",
    "        self.verbose = verbose\n",
    "        \n",
    "        if early_stopping == False:\n",
    "            self.num_epochs_stop = max_epoch\n",
    "        else:\n",
    "            self.num_epochs_stop = num_epochs_stop\n",
    "    \n",
    "        self.layer_values = [None] * (self.layers + 2)\n",
    "        self.iters = 0\n",
    "        self.epochs = 0\n",
    "                \n",
    "    def validateHyperParams(self):\n",
    "        \n",
    "        if self.layers != (len(self.nodes) - 2):\n",
    "            raise ValueError(\"layers must be equal to the number of hidden layers, got %s.\" % self.layers)\n",
    "        if self.nnodes != None and self.nnodes <= 0:\n",
    "            raise ValueError(\"nnodes must be > 0, got %s.\" % self.nnodes)\n",
    "        if self.lr <= 0 or self.lr > 1:\n",
    "            raise ValueError(\"lr must be in (0, 1], got %s.\" % self.lr)\n",
    "            \n",
    "        if self.lr_type not in [\"constant\", \"invscaling\", \"annealing\", \"adaptive\"]:\n",
    "            raise ValueError(\"lr_type is not valid\" % self.lr_type\n",
    "                            + \"\\nAvailable lr types: constant, invscaling, adaptive\")\n",
    "            \n",
    "        if self.max_epoch <= 0:\n",
    "            raise ValueError(\"max_iter must be > 0, got %s.\" % self.max_epoch)\n",
    "               \n",
    "        activation_functions = list(ACTIVATIONS.keys())\n",
    "        if self.activationFn != \"\":\n",
    "            if self.activationFn not in activation_functions:\n",
    "                raise ValueError(\"%s is not an activation function\" % self.activationFn\n",
    "                                + \"\\nAvailable activation functions: relu, leaky_relu, sigmoid, tanh\")\n",
    "    \n",
    "    def initialize_weights(self, M):\n",
    "        weights = []\n",
    "        \n",
    "        for i in range(self.layers + 1):\n",
    "            if i == 0:\n",
    "                input_size = M # special case for w1\n",
    "            else:\n",
    "                input_size = self.nodes[i]\n",
    "            output_size = self.nodes[i + 1]\n",
    "            \n",
    "            # Xavier (Glorot) Initialization\n",
    "            if self.activationFn == \"tanh\":\n",
    "                target_variance = 2 / (input_size + output_size)\n",
    "                w_i = np.random.normal(loc= 0, scale = np.sqrt(target_variance), size=(input_size, output_size))\n",
    "            # He Initialization\n",
    "            elif self.activationFn == \"relu\":\n",
    "                target_variance = 2 / input_size\n",
    "                w_i = np.random.normal(loc= 0, scale = np.sqrt(target_variance), size=(input_size, output_size))\n",
    "            # Random Uniform\n",
    "            else:\n",
    "                w_i = np.random.uniform(-1/np.sqrt(input_size), 1/np.sqrt(input_size))\n",
    "                #w_i = np.random.normal(size=(input_size, output_size))\n",
    "            w_i = np.round(w_i, 2)\n",
    "            w_i[input_size - 1:] = 0 # initialize bias to 0\n",
    "            weights.append(w_i)\n",
    "        return weights\n",
    "    \n",
    "    # returns the weight term for L2 regularization\n",
    "    def get_weight_term(self):\n",
    "        weight_term = 0\n",
    "        for i in range(len(self.weights)):\n",
    "            weight_term = np.sum(self.weights[i] ** 2)\n",
    "        return weight_term\n",
    "        \n",
    "    def forward_pass(self, X_batch, y_batch):\n",
    "        \n",
    "        self.layer_values[0] = X_batch\n",
    "        \n",
    "        # calculate hidden layers\n",
    "        for i in range(self.layers):\n",
    "            X = self.layer_values[i]\n",
    "            weights = self.weights[i]\n",
    "            h_layer = X.dot(weights)\n",
    "            \n",
    "            # apply activation function\n",
    "            activation_fn = ACTIVATIONS[self.activations[i]]\n",
    "            activation_fn(h_layer)\n",
    "            self.layer_values[i + 1] = h_layer\n",
    "            \n",
    "        \n",
    "        # calculate predictions\n",
    "        X = self.layer_values[self.layers] # values in last hidden layer\n",
    "        weights = self.weights[self.layers]\n",
    "        y_pred = X.dot(weights)\n",
    "        y_pred = y_pred.flatten()\n",
    "        \n",
    "        # calculate the l2 loss\n",
    "        l2_loss = 0\n",
    "        # only need predictions once we have fit the data\n",
    "        if isinstance(y_batch, np.ndarray): \n",
    "            l2_loss = squared_loss(y_pred, y_batch) # l2\n",
    "            weight_term = self.get_weight_term()\n",
    "            l2_loss += self.alpha * weight_term # l2 regularization\n",
    "            self.layer_values[self.layers + 1] = l2_loss\n",
    "        \n",
    "        return l2_loss, y_pred\n",
    "    \n",
    "    \n",
    "    def backward_pass(self, y_pred, y_batch):\n",
    "        \n",
    "        # loss layer\n",
    "        J = squared_loss_derivative(y_pred, y_batch, self.batchSize)\n",
    "        J = np.reshape(J, (len(J), 1))\n",
    "        \n",
    "        J_weights = [None] * (self.layers + 1)\n",
    "        \n",
    "        # output layer\n",
    "        # jacobian w.r.t. weights\n",
    "        x_t = self.layer_values[self.layers].T\n",
    "        J_wi = x_t.dot(J)\n",
    "        J_weights[self.layers] = J_wi\n",
    "        \n",
    "        # update jacobian at output layer\n",
    "        w_t = self.weights[self.layers].T\n",
    "        w_t = np.delete(w_t, w_t.shape[1] - 1, 1) # take out the bias\n",
    "        J = np.dot(J, w_t)\n",
    "        zeros = [0] * len(J)\n",
    "        zeros = np.reshape(zeros, (len(J), 1))\n",
    "        J = np.append(J, zeros, axis=1)\n",
    "        \n",
    "        # iterate through hidden layers backwards\n",
    "        for i in range(self.layers, 0 , -1):\n",
    "            # update jacobian at activation layer\n",
    "            d_activation_fn = DERIVATIVES[self.activations[i - 1]]\n",
    "            d_activation_fn(self.layer_values[i], J)\n",
    "            \n",
    "            # hidden layer\n",
    "            # jacobian w.r.t. weights\n",
    "            x_t = self.layer_values[i - 1].T\n",
    "            J_wi = x_t.dot(J)\n",
    "            J_weights[i - 1] = J_wi\n",
    "            \n",
    "            # jacobian w.r.t. inputs\n",
    "            w_t = self.weights[i - 1].T\n",
    "            w_t = np.delete(w_t, w_t.shape[1] - 1, 1)\n",
    "            J = np.dot(J, w_t)\n",
    "            zeros = [0] * len(J)\n",
    "            zeros = np.reshape(zeros, (len(J), 1))\n",
    "            J = np.append(J, zeros, axis=1)\n",
    "            \n",
    "            \n",
    "        # initialize velocity to 0\n",
    "        if self.epochs == 0 and self.iters == 0:\n",
    "            self.velocity = []\n",
    "            for i in range(len(J_weights)):\n",
    "                n_rows = J_weights[i].shape[0]\n",
    "                n_cols = J_weights[i].shape[1]\n",
    "                vel_i = np.zeros((n_rows, n_cols))\n",
    "                self.velocity.append(vel_i)\n",
    "        \n",
    "        for i in range(len(J_weights)):\n",
    "            self.velocity[i] = self.mu * self.velocity[i] - self.lr * J_weights[i]\n",
    "            self.weights[i] += self.velocity[i]\n",
    "      \n",
    "    \n",
    "    def fit(self, X_train, y_train):\n",
    "        \n",
    "        self.validateHyperParams()\n",
    "        # convert to numpy arrays\n",
    "        if isinstance(X_train, pd.DataFrame):\n",
    "            X_train = X_train.to_numpy()\n",
    "            \n",
    "        if isinstance(y_train, pd.Series):\n",
    "            y_train = y_train.to_numpy()\n",
    "            \n",
    "        # add ones for bias\n",
    "        ones = [1] * len(X_train)\n",
    "        ones = np.reshape(ones, (len(X_train), 1))\n",
    "        X_train = np.append(X_train, ones, axis=1)\n",
    "        \n",
    "        # save 10% for validation\n",
    "        val_rows = round(len(X_train) * .1)\n",
    "        X_val = X_train[:val_rows, :]\n",
    "        y_val = y_train[:val_rows]\n",
    "        \n",
    "        X_train = X_train[val_rows:, :]\n",
    "        y_train = y_train[val_rows:]\n",
    "        \n",
    "        # initalize weights on first iteration\n",
    "        M = X_train.shape[1] # M = number of features\n",
    "        self.weights = self.initialize_weights(M)\n",
    "        \n",
    "        best_v_loss = np.inf\n",
    "        n_epoch_no_change = 0 \n",
    "        while (self.epochs < self.max_epoch and n_epoch_no_change <= self.num_epochs_stop):\n",
    "            # ONE EPOCH \n",
    "            last_idx = 0\n",
    "            if self.shuffle == True: # shuffle data after every epoch, if specified \n",
    "                np.random.shuffle(X_train)\n",
    "            while (last_idx < len(X_train)):\n",
    "                first_idx = self.iters * self.batchSize\n",
    "                remaining_rows = len(X_train) - first_idx\n",
    "                last_idx = first_idx + min(self.batchSize, remaining_rows)\n",
    "                X_batch = X_train[first_idx: last_idx, :]\n",
    "                y_batch = y_train[first_idx: last_idx]\n",
    "\n",
    "                loss, y_pred = self.forward_pass(X_batch, y_batch)\n",
    "                self.backward_pass(y_pred, y_batch)\n",
    "                self.iters += 1\n",
    "            \n",
    "            # trainig and validation loss after one epoch\n",
    "            t_loss, y_pred = self.forward_pass(X_train, y_train)\n",
    "            v_loss, y_pred = self.forward_pass(X_val, y_val)\n",
    "            if self.verbose:\n",
    "                print(\"epoch:\", self.epochs)\n",
    "                print(\"training loss:\", t_loss)\n",
    "                print(\"validation loss:\", v_loss)\n",
    "            \n",
    "            self.iters = 0 # start over, next epoch\n",
    "            self.epochs += 1\n",
    "            \n",
    "            # decrease the learning rate by one of three methods, if specified\n",
    "            if self.lr_type == \"invscaling\":\n",
    "                self.lr = self.lr/pow(self.epochs, self.power_t)\n",
    "            elif self.lr_type == \"annealing\":\n",
    "                self.lr = self.lr * self.annealing_rate\n",
    "            elif self.lr_type == \"adaptive\":\n",
    "                if n_epoch_no_change >= 2: \n",
    "                    self.lr = self.lr/5\n",
    "                \n",
    "            # stops when validation loss doesn't improve for num_epochs_stop\n",
    "            if best_v_loss - v_loss < self.tol: \n",
    "                n_epoch_no_change += 1\n",
    "            else:\n",
    "                n_epoch_no_change = 0\n",
    "            # update best_v_loss\n",
    "            if v_loss < best_v_loss:\n",
    "                best_v_loss = v_loss\n",
    "            \n",
    "            \n",
    "        \n",
    "    def predict(self, X_test):\n",
    "        \n",
    "        # convert to numpy array\n",
    "        if isinstance(X_test, pd.DataFrame):\n",
    "            X_test = X_test.to_numpy()\n",
    "        \n",
    "        # add ones for bias\n",
    "        ones = [1] * len(X_test)\n",
    "        ones = np.reshape(ones, (len(X_test), 1))\n",
    "        X_test = np.append(X_test, ones, axis=1)\n",
    "        \n",
    "        loss, y_pred = self.forward_pass(X_test, None)\n",
    "        return y_pred\n",
    "        "
   ]
  },
  {
   "cell_type": "code",
   "execution_count": null,
   "metadata": {},
   "outputs": [],
   "source": []
  },
  {
   "cell_type": "code",
   "execution_count": null,
   "metadata": {
    "scrolled": true
   },
   "outputs": [
    {
     "name": "stdout",
     "output_type": "stream",
     "text": [
      "Nodes: 100\n",
      "Batch Size: 75\n",
      "Nodes: 100\n",
      "Batch Size: 150\n"
     ]
    }
   ],
   "source": [
    "nodes = [100] # use to specify a number of hidden nodes per layer\n",
    "batches = [75, 150, 1000, 3000]\n",
    "\n",
    "means = []\n",
    "mses = []\n",
    "\n",
    "for nod in nodes:\n",
    "    for batch in batches:\n",
    "        print(\"Nodes:\", nod)\n",
    "        print(\"Batch Size:\", batch)\n",
    "        nn = NeuralNetwork(layers=3, nnodes=nod, batchSize=batch, \n",
    "                   activationFn=\"tanh\", lr=0.00001, lr_type=\"constant\", \n",
    "                   max_epoch=2000, momentum=0.9, early_stopping=True, verbose=False)\n",
    "        nn.fit(X_std, y_log)\n",
    "        \n",
    "        mae = get_mae(y_log, nn.predict(X_std))\n",
    "        means.append(mae)\n",
    "        mse = get_mse(y_log, nn.predict(X_std))\n",
    "        mses.append(mse)\n",
    "\n",
    "print(means)\n",
    "print(mses)"
   ]
  },
  {
   "cell_type": "markdown",
   "metadata": {},
   "source": [
    "We can see here that a neural network with ____ nodes in each layer and with a batch size of ____ is optimal."
   ]
  },
  {
   "cell_type": "code",
   "execution_count": 18,
   "metadata": {},
   "outputs": [
    {
     "data": {
      "text/plain": [
       "([0.3719213974654842,\n",
       "  0.40464122313609907,\n",
       "  15.507711550791655,\n",
       "  15.496401756124515,\n",
       "  0.37059927448713376,\n",
       "  0.40061924091584505],\n",
       " [0.30738081309640997,\n",
       "  0.3448503254331879,\n",
       "  240.89535707146248,\n",
       "  240.68193902850905,\n",
       "  0.3019580281590337,\n",
       "  0.3398968652326514])"
      ]
     },
     "execution_count": 18,
     "metadata": {},
     "output_type": "execute_result"
    }
   ],
   "source": [
    "means, mses"
   ]
  },
  {
   "cell_type": "code",
   "execution_count": null,
   "metadata": {},
   "outputs": [
    {
     "name": "stdout",
     "output_type": "stream",
     "text": [
      "Number of layers: 1\n",
      "0.32878571475904267\n",
      "0.2653659683032532\n",
      "Number of layers: 2\n",
      "0.33078621934338914\n",
      "0.2630391625102294\n",
      "Number of layers: 3\n",
      "0.32166828746298876\n",
      "0.25342771172128625\n",
      "Number of layers: 4\n",
      "0.3290997733116515\n",
      "0.259221440482325\n",
      "Number of layers: 5\n"
     ]
    }
   ],
   "source": [
    "means = []\n",
    "mses = []\n",
    "\n",
    "for i in range(1, 6):\n",
    "    print(\"Number of layers:\", i)\n",
    "    nn = NeuralNetwork(layers=i, nnodes=75, batchSize=75, \n",
    "               activationFn=\"tanh\", lr=0.00001, lr_type=\"constant\", \n",
    "               max_epoch=2000, momentum=0.9, early_stopping=True, verbose=False)\n",
    "    nn.fit(X_std, y_log)\n",
    "\n",
    "    mae = get_mae(y_log, nn.predict(X_std))\n",
    "    means.append(mae)\n",
    "    print(mae)\n",
    "    mse = get_mse(y_log, nn.predict(X_std))\n",
    "    mses.append(mse)\n",
    "    print(mse)\n",
    "\n",
    "print(means)\n",
    "print(mses)"
   ]
  },
  {
   "cell_type": "markdown",
   "metadata": {},
   "source": [
    "We can see here that a neural network with 3 hidden layers is optimal"
   ]
  },
  {
   "cell_type": "code",
   "execution_count": null,
   "metadata": {
    "scrolled": true
   },
   "outputs": [
    {
     "name": "stdout",
     "output_type": "stream",
     "text": [
      "Activation Function: tanh\n"
     ]
    }
   ],
   "source": [
    "actives = [\"tanh\", \"sigmoid\"]\n",
    "\n",
    "means = []\n",
    "mses = []\n",
    "\n",
    "for active in actives:\n",
    "    print(\"Activation Function:\", active)\n",
    "    nn = NeuralNetwork(layers=3, nnodes=75, batchSize=75, \n",
    "               activationFn=active, lr=0.000001, lr_type=\"constant\", \n",
    "               max_epoch=2000, momentum=0.9, early_stopping=True, verbose=False)\n",
    "    nn.fit(X_std, y_log)\n",
    "\n",
    "    mae = get_mae(y_log, nn.predict(X_std))\n",
    "    means.append(mae)\n",
    "    print(mae)\n",
    "    mse = get_mse(y_log, nn.predict(X_std))\n",
    "    mses.append(mse)\n",
    "    print(mse)\n",
    "\n",
    "print(means)\n",
    "print(mses)"
   ]
  },
  {
   "cell_type": "code",
   "execution_count": null,
   "metadata": {},
   "outputs": [],
   "source": [
    "Activation Function: relu\n",
    "1.839555048410389\n",
    "5.905572357965957\n",
    "Activation Function: tanh"
   ]
  },
  {
   "cell_type": "markdown",
   "metadata": {},
   "source": [
    "We can see that a nerual network with ____ as the activation function is the most optimal."
   ]
  },
  {
   "cell_type": "code",
   "execution_count": null,
   "metadata": {
    "scrolled": true
   },
   "outputs": [
    {
     "name": "stdout",
     "output_type": "stream",
     "text": [
      "Learning Rate: 1e-06\n"
     ]
    }
   ],
   "source": [
    "lrs = [0.000001, 0.0000001]\n",
    "\n",
    "means = []\n",
    "mses = []\n",
    "\n",
    "for l in lrs:\n",
    "    print(\"Learning Rate:\", l)\n",
    "    nn = NeuralNetwork(layers=3, nnodes=75, batchSize=75, \n",
    "               activationFn=\"tanh\", lr=l, lr_type=\"constant\", \n",
    "               max_epoch=2000, momentum=0.9, early_stopping=True, verbose=False)\n",
    "    nn.fit(X_std, y_log)\n",
    "\n",
    "    mae = get_mae(y_log, nn.predict(X_std))\n",
    "    means.append(mae)\n",
    "    print(\"MAE:\", mae)\n",
    "    mse = get_mse(y_log, nn.predict(X_std))\n",
    "    mses.append(mse)\n",
    "    print(\"MSE:\", mse)\n",
    "\n",
    "print(means)\n",
    "print(mses)"
   ]
  },
  {
   "cell_type": "code",
   "execution_count": null,
   "metadata": {},
   "outputs": [],
   "source": [
    "Learning Rate: 0.0001\n",
    "MAE: 0.28629193636873423\n",
    "MSE: 0.22753831460589047\n",
    "Learning Rate: 1e-05\n",
    "MAE: 0.3239843514618037"
   ]
  },
  {
   "cell_type": "markdown",
   "metadata": {},
   "source": [
    "We can see here that a neural netwrok with a learning rate of 0.0001 is the most optimal"
   ]
  },
  {
   "cell_type": "code",
   "execution_count": null,
   "metadata": {},
   "outputs": [],
   "source": [
    "lrstypes = [\"constant\", \"invscaling\", \"annealing\", \"adaptive\"]\n",
    "\n",
    "means = []\n",
    "mses = []\n",
    "\n",
    "for ltype in lrstypes: \n",
    "    print(\"Learning Type:\", ltype)\n",
    "    nn = NeuralNetwork(layers=3, nnodes=, batchSize=, \n",
    "               activationFn=\"tanh\", lr= , lr_type=ltype, \n",
    "               max_epoch=2000, momentum=0.9, early_stopping=True, verbose=False)\n",
    "    nn.fit(X_std, y_log)\n",
    "\n",
    "    mae = get_mae(y_log, nn.predict(X_std))\n",
    "    means.append(mae)\n",
    "    mse = get_mse(y_log, nn.predict(X_std))\n",
    "    mses.append(mse)\n",
    "\n",
    "print(means)\n",
    "print(mses)"
   ]
  },
  {
   "cell_type": "code",
   "execution_count": null,
   "metadata": {},
   "outputs": [],
   "source": []
  },
  {
   "cell_type": "code",
   "execution_count": 21,
   "metadata": {},
   "outputs": [
    {
     "name": "stdout",
     "output_type": "stream",
     "text": [
      "epoch: 0\n",
      "training loss: 0.31640061621858545\n",
      "validation loss: 0.31174246673268996\n",
      "epoch: 1\n",
      "training loss: 0.23330194974307583\n",
      "validation loss: 0.23142053046161115\n",
      "epoch: 2\n",
      "training loss: 0.20453296240880303\n",
      "validation loss: 0.20482535379596287\n",
      "epoch: 3\n",
      "training loss: 0.18811828663685037\n",
      "validation loss: 0.19018127301090265\n",
      "epoch: 4\n",
      "training loss: 0.1770208290746311\n",
      "validation loss: 0.18051436473513122\n",
      "epoch: 5\n",
      "training loss: 0.16875642624335274\n",
      "validation loss: 0.17353289096921565\n",
      "epoch: 6\n",
      "training loss: 0.16272728572000741\n",
      "validation loss: 0.16815113657275743\n",
      "epoch: 7\n",
      "training loss: 0.15793767179144694\n",
      "validation loss: 0.1638431735767969\n",
      "epoch: 8\n",
      "training loss: 0.15402401716859293\n",
      "validation loss: 0.16029298629960953\n",
      "epoch: 9\n",
      "training loss: 0.15075569835725044\n",
      "validation loss: 0.15730316600952318\n",
      "epoch: 10\n",
      "training loss: 0.1479780965556555\n",
      "validation loss: 0.15474223524941846\n",
      "epoch: 11\n",
      "training loss: 0.14558296926875935\n",
      "validation loss: 0.15251845133346612\n",
      "epoch: 12\n",
      "training loss: 0.14349134637187058\n",
      "validation loss: 0.15056545429779755\n",
      "epoch: 13\n",
      "training loss: 0.141642025197764\n",
      "validation loss: 0.1488338497989312\n",
      "epoch: 14\n",
      "training loss: 0.1399798869224356\n",
      "validation loss: 0.14728601437313543\n",
      "epoch: 15\n",
      "training loss: 0.13845256996701352\n",
      "validation loss: 0.14589271652198613\n",
      "epoch: 16\n",
      "training loss: 0.137094405333812\n",
      "validation loss: 0.14463029307341108\n",
      "epoch: 17\n",
      "training loss: 0.1358960733782321\n",
      "validation loss: 0.14347974431030663\n",
      "epoch: 18\n",
      "training loss: 0.13480783285135986\n",
      "validation loss: 0.14242661459027256\n",
      "epoch: 19\n",
      "training loss: 0.1338119149037991\n",
      "validation loss: 0.14145834352534767\n",
      "epoch: 20\n",
      "training loss: 0.1328957686704646\n",
      "validation loss: 0.14056451044196352\n",
      "epoch: 21\n",
      "training loss: 0.13204934277344973\n",
      "validation loss: 0.13973643325658006\n",
      "epoch: 22\n",
      "training loss: 0.13126443713070537\n",
      "validation loss: 0.13896684125609723\n",
      "epoch: 23\n",
      "training loss: 0.1305344138749868\n",
      "validation loss: 0.1382496157554452\n",
      "epoch: 24\n",
      "training loss: 0.12985386102865268\n",
      "validation loss: 0.1375795443630118\n",
      "epoch: 25\n",
      "training loss: 0.12921809715410354\n",
      "validation loss: 0.13695207598376707\n",
      "epoch: 26\n",
      "training loss: 0.12862281171473822\n",
      "validation loss: 0.13636314340590341\n",
      "epoch: 27\n",
      "training loss: 0.12806403936951066\n",
      "validation loss: 0.1358091029072262\n",
      "epoch: 28\n",
      "training loss: 0.12753824953440202\n",
      "validation loss: 0.13528672904184375\n",
      "epoch: 29\n",
      "training loss: 0.1270423600334411\n",
      "validation loss: 0.13479319093456485\n",
      "epoch: 30\n",
      "training loss: 0.12657368617002002\n",
      "validation loss: 0.13432600482491566\n",
      "epoch: 31\n",
      "training loss: 0.1261298765601988\n",
      "validation loss: 0.13388298242773605\n",
      "epoch: 32\n",
      "training loss: 0.12570885734467632\n",
      "validation loss: 0.1334621854741863\n",
      "epoch: 33\n",
      "training loss: 0.1253087879741625\n",
      "validation loss: 0.1330618882873141\n",
      "epoch: 34\n",
      "training loss: 0.12492802657418488\n",
      "validation loss: 0.1326805473603163\n",
      "epoch: 35\n",
      "training loss: 0.12456510238603558\n",
      "validation loss: 0.13231677648634207\n",
      "epoch: 36\n",
      "training loss: 0.12421869333294373\n",
      "validation loss: 0.13196932621122148\n",
      "epoch: 37\n",
      "training loss: 0.1238876073697683\n",
      "validation loss: 0.13163706667298353\n",
      "epoch: 38\n",
      "training loss: 0.12357076672668273\n",
      "validation loss: 0.13131897312950966\n",
      "epoch: 39\n",
      "training loss: 0.12326719444951094\n",
      "validation loss: 0.13101411365005858\n",
      "epoch: 40\n",
      "training loss: 0.12297600281694193\n",
      "validation loss: 0.13072163857168376\n",
      "epoch: 41\n",
      "training loss: 0.12269638332219493\n",
      "validation loss: 0.13044077141187144\n",
      "epoch: 42\n",
      "training loss: 0.12242759797455162\n",
      "validation loss: 0.13017080099465217\n",
      "epoch: 43\n",
      "training loss: 0.12216897172246878\n",
      "validation loss: 0.1299110745964168\n",
      "epoch: 44\n",
      "training loss: 0.12191988583415879\n",
      "validation loss: 0.12966099195472236\n",
      "epoch: 45\n",
      "training loss: 0.12167977209829761\n",
      "validation loss: 0.12942000001192794\n",
      "epoch: 46\n",
      "training loss: 0.12144810772924641\n",
      "validation loss: 0.12918758828785484\n",
      "epoch: 47\n",
      "training loss: 0.12122441087912852\n",
      "validation loss: 0.12896328479342833\n",
      "epoch: 48\n",
      "training loss: 0.12100823667405959\n",
      "validation loss: 0.12874665241153074\n",
      "epoch: 49\n",
      "training loss: 0.12079917370433575\n",
      "validation loss: 0.1285372856828938\n",
      "epoch: 50\n",
      "training loss: 0.12059684090885629\n",
      "validation loss: 0.12833480794435545\n",
      "epoch: 51\n",
      "training loss: 0.12040088480284235\n",
      "validation loss: 0.12813886877464967\n",
      "epoch: 52\n",
      "training loss: 0.12021097700528936\n",
      "validation loss: 0.1279491417094089\n",
      "epoch: 53\n",
      "training loss: 0.12002681202880067\n",
      "validation loss: 0.12776532219250245\n",
      "epoch: 54\n",
      "training loss: 0.11984810529968319\n",
      "validation loss: 0.12758712573540207\n",
      "epoch: 55\n",
      "training loss: 0.11967459138061244\n",
      "validation loss: 0.1274142862601215\n",
      "epoch: 56\n",
      "training loss: 0.11950602237192266\n",
      "validation loss: 0.1272465546045398\n",
      "epoch: 57\n",
      "training loss: 0.11934216647076523\n",
      "validation loss: 0.12708369717169538\n",
      "epoch: 58\n",
      "training loss: 0.1191828066700905\n",
      "validation loss: 0.12692549470700565\n",
      "epoch: 59\n",
      "training loss: 0.11902773958172948\n",
      "validation loss: 0.12677174118939571\n",
      "epoch: 60\n",
      "training loss: 0.11887677436983436\n",
      "validation loss: 0.12662224282406187\n",
      "epoch: 61\n",
      "training loss: 0.11872973178264468\n",
      "validation loss: 0.1264768171260975\n",
      "epoch: 62\n",
      "training loss: 0.11858644327201237\n",
      "validation loss: 0.12633529208550764\n",
      "epoch: 63\n",
      "training loss: 0.1184467501913874\n",
      "validation loss: 0.1261975054052654\n",
      "epoch: 64\n",
      "training loss: 0.11831050306406257\n",
      "validation loss: 0.12606330380504405\n",
      "epoch: 65\n",
      "training loss: 0.11817756091442962\n",
      "validation loss: 0.12593254238411847\n",
      "epoch: 66\n",
      "training loss: 0.11804779065582789\n",
      "validation loss: 0.12580508403768156\n",
      "epoch: 67\n",
      "training loss: 0.11792106652929554\n",
      "validation loss: 0.12568079892149098\n",
      "epoch: 68\n",
      "training loss: 0.11779726958817226\n",
      "validation loss: 0.12555956396035436\n",
      "epoch: 69\n",
      "training loss: 0.11767628722407135\n",
      "validation loss: 0.12544126239649803\n",
      "epoch: 70\n",
      "training loss: 0.1175580127302516\n",
      "validation loss: 0.1253257833743518\n",
      "epoch: 71\n",
      "training loss: 0.11744234489888657\n",
      "validation loss: 0.12521302155873842\n",
      "epoch: 72\n",
      "training loss: 0.11732918764917098\n",
      "validation loss: 0.1251028767838822\n",
      "epoch: 73\n",
      "training loss: 0.11721844968363154\n",
      "validation loss: 0.12499525373107354\n",
      "epoch: 74\n",
      "training loss: 0.11711004417044553\n",
      "validation loss: 0.12489006163323632\n",
      "epoch: 75\n",
      "training loss: 0.11700388845003314\n",
      "validation loss: 0.12478721400507323\n",
      "epoch: 76\n",
      "training loss: 0.11689990376470542\n",
      "validation loss: 0.12468662839789994\n",
      "epoch: 77\n",
      "training loss: 0.1167980150107428\n",
      "validation loss: 0.12458822617874185\n",
      "epoch: 78\n",
      "training loss: 0.11669815051297606\n",
      "validation loss: 0.12449193233373947\n",
      "epoch: 79\n",
      "training loss: 0.11660024182275691\n",
      "validation loss: 0.12439767529637756\n",
      "epoch: 80\n",
      "training loss: 0.11650422354113224\n",
      "validation loss: 0.12430538680147106\n",
      "epoch: 81\n",
      "training loss: 0.11641003317001654\n",
      "validation loss: 0.12421500176611351\n",
      "epoch: 82\n",
      "training loss: 0.11631761099504781\n",
      "validation loss: 0.12412645819878333\n",
      "epoch: 83\n",
      "training loss: 0.11622690000432742\n",
      "validation loss: 0.12403969713727334\n",
      "epoch: 84\n",
      "training loss: 0.11613784584690197\n",
      "validation loss: 0.12395466261475034\n",
      "epoch: 85\n",
      "training loss: 0.11605039683293843\n",
      "validation loss: 0.12387130165068555\n",
      "epoch: 86\n",
      "training loss: 0.11596450397321284\n",
      "validation loss: 0.12378956425927103\n",
      "epoch: 87\n",
      "training loss: 0.11588012104802328\n",
      "validation loss: 0.1237094034621202\n",
      "epoch: 88\n",
      "training loss: 0.11579720468488278\n",
      "validation loss: 0.12363077528497421\n",
      "epoch: 89\n",
      "training loss: 0.11571571441180951\n",
      "validation loss: 0.12355363871118918\n",
      "epoch: 90\n",
      "training loss: 0.11563561264252838\n",
      "validation loss: 0.12347795556062595\n",
      "epoch: 91\n",
      "training loss: 0.11555686454754738\n",
      "validation loss: 0.12340369026486127\n",
      "epoch: 92\n",
      "training loss: 0.11547943777737858\n",
      "validation loss: 0.12333080952184336\n",
      "epoch: 93\n",
      "training loss: 0.11540330203389672\n",
      "validation loss: 0.12325928183613691\n",
      "epoch: 94\n",
      "training loss: 0.1153284285275076\n",
      "validation loss: 0.12318907698076559\n",
      "epoch: 95\n",
      "training loss: 0.11525478939682401\n",
      "validation loss: 0.12312016544399376\n",
      "epoch: 96\n",
      "training loss: 0.1151823571860059\n",
      "validation loss: 0.12305251793760401\n",
      "epoch: 97\n",
      "training loss: 0.1151111044622732\n",
      "validation loss: 0.1229861050347144\n",
      "epoch: 98\n",
      "training loss: 0.11504100361686631\n",
      "validation loss: 0.12292089697651479\n",
      "epoch: 99\n",
      "training loss: 0.11497202684437385\n",
      "validation loss: 0.12285686364927127\n",
      "epoch: 100\n",
      "training loss: 0.11490414625744176\n",
      "validation loss: 0.12279397469965929\n"
     ]
    },
    {
     "name": "stdout",
     "output_type": "stream",
     "text": [
      "epoch: 101\n",
      "training loss: 0.11483733407733453\n",
      "validation loss: 0.12273219973790686\n",
      "epoch: 102\n",
      "training loss: 0.11477156284471367\n",
      "validation loss: 0.12267150857635879\n",
      "epoch: 103\n",
      "training loss: 0.11470680561089973\n",
      "validation loss: 0.1226118714612921\n",
      "epoch: 104\n",
      "training loss: 0.11464303608845665\n",
      "validation loss: 0.12255325927109843\n",
      "epoch: 105\n",
      "training loss: 0.11458022875508775\n",
      "validation loss: 0.1224956436685239\n",
      "epoch: 106\n",
      "training loss: 0.11451835891441697\n",
      "validation loss: 0.12243899720548362\n",
      "epoch: 107\n",
      "training loss: 0.11445740272175337\n",
      "validation loss: 0.1223832933854411\n",
      "epoch: 108\n",
      "training loss: 0.11439733718398087\n",
      "validation loss: 0.12232850669122446\n",
      "epoch: 109\n",
      "training loss: 0.11433814014184542\n",
      "validation loss: 0.122274612586646\n",
      "epoch: 110\n",
      "training loss: 0.114279790241279\n",
      "validation loss: 0.12222158749947956\n",
      "epoch: 111\n",
      "training loss: 0.11422226689867632\n",
      "validation loss: 0.1221694087920027\n",
      "epoch: 112\n",
      "training loss: 0.11416555026353759\n",
      "validation loss: 0.12211805472388529\n",
      "epoch: 113\n",
      "training loss: 0.11410962118071849\n",
      "validation loss: 0.12206750441093075\n",
      "epoch: 114\n",
      "training loss: 0.11405446115366916\n",
      "validation loss: 0.12201773778213776\n",
      "epoch: 115\n",
      "training loss: 0.11400005230944735\n",
      "validation loss: 0.12196873553674815\n",
      "epoch: 116\n",
      "training loss: 0.11394637736589623\n",
      "validation loss: 0.12192047910235726\n",
      "epoch: 117\n",
      "training loss: 0.11389341960112231\n",
      "validation loss: 0.12187295059474229\n",
      "epoch: 118\n",
      "training loss: 0.11384116282525733\n",
      "validation loss: 0.12182613277977046\n",
      "epoch: 119\n",
      "training loss: 0.1137895913543981\n",
      "validation loss: 0.12178000903755394\n",
      "epoch: 120\n",
      "training loss: 0.11373868998657424\n",
      "validation loss: 0.1217345633288865\n",
      "epoch: 121\n",
      "training loss: 0.11368844397957506\n",
      "validation loss: 0.12168978016391976\n",
      "epoch: 122\n",
      "training loss: 0.11363883903046323\n",
      "validation loss: 0.12164564457298395\n",
      "epoch: 123\n",
      "training loss: 0.11358986125661115\n",
      "validation loss: 0.12160214207943397\n",
      "epoch: 124\n",
      "training loss: 0.11354149717810617\n",
      "validation loss: 0.1215592586743896\n",
      "epoch: 125\n",
      "training loss: 0.11349373370138433\n",
      "validation loss: 0.12151698079323392\n",
      "epoch: 126\n",
      "training loss: 0.11344655810396742\n",
      "validation loss: 0.12147529529373885\n",
      "epoch: 127\n",
      "training loss: 0.11339995802019005\n",
      "validation loss: 0.12143418943569162\n"
     ]
    }
   ],
   "source": [
    "nn = NeuralNetwork(layers=3, nnodes=100, batchSize=75, \n",
    "                       activationFn=\"tanh\", lr=0.0001, lr_type=\"constant\", \n",
    "                       max_epoch=2000, momentum=0.9, early_stopping=True)\n",
    "nn.fit(X_train_std, y_train_log)"
   ]
  },
  {
   "cell_type": "code",
   "execution_count": 22,
   "metadata": {
    "scrolled": true
   },
   "outputs": [
    {
     "name": "stdout",
     "output_type": "stream",
     "text": [
      "Mean absolute error: $1774245.96\n",
      "Root mean squared error: $9190356278705.72\n"
     ]
    }
   ],
   "source": [
    "pred = nn.predict(X_test_std)\n",
    "mse = get_mse(y_test, np.exp(pred))\n",
    "mae = get_mae(y_test, np.exp(pred))\n",
    "print('Mean absolute error: $%0.2f'%(mae))\n",
    "print('Root mean squared error: $%0.2f'%(mse))"
   ]
  },
  {
   "cell_type": "code",
   "execution_count": 24,
   "metadata": {},
   "outputs": [
    {
     "name": "stdout",
     "output_type": "stream",
     "text": [
      "Mean absolute error: $0.29\n",
      "Root mean squared error: $0.22\n"
     ]
    }
   ],
   "source": [
    "mse = get_mse(y_test_log, pred)\n",
    "mae = get_mae(y_test_log, pred)\n",
    "print('Mean absolute error: $%0.2f'%(mae))\n",
    "print('Root mean squared error: $%0.2f'%(mse))"
   ]
  },
  {
   "cell_type": "markdown",
   "metadata": {},
   "source": [
    "Mean absolute error: $0.29\n",
    "Root mean squared error: $0.47"
   ]
  }
 ],
 "metadata": {
  "kernelspec": {
   "display_name": "Python 3",
   "language": "python",
   "name": "python3"
  },
  "language_info": {
   "codemirror_mode": {
    "name": "ipython",
    "version": 3
   },
   "file_extension": ".py",
   "mimetype": "text/x-python",
   "name": "python",
   "nbconvert_exporter": "python",
   "pygments_lexer": "ipython3",
   "version": "3.7.3"
  }
 },
 "nbformat": 4,
 "nbformat_minor": 4
}
